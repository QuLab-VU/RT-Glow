{
 "cells": [
  {
   "cell_type": "markdown",
   "metadata": {},
   "source": [
    "# Quantifying cell counts from Cytation\n",
    "Applying `py-seg` to Cytation 5 data generated in HTS (VAPR) core by Clayton Wandishin.  Single 384-well plate imaged multiple times, 2 channels (red nuclei and (Sytox) green for dead cells). Need plate map of cell line(s), drugs and drug concentrations from Clayton.\n",
    "\n",
    "Steps needed to perform processing and assemble data:\n",
    "\n",
    "* Identify all image files (saved on vu1file quaranta2 share)\n",
    "* Parse file names to determine time point, channel, well, and position\n",
    "* Assemble task arguments for `py-seg` processing\n",
    "* Send jobs to RabbitMq/Celery for processing\n",
    "* Collect cell counts per time point (similar to `plate.id` from ImageXpress HTS core output)"
   ]
  },
  {
   "cell_type": "code",
   "execution_count": 1,
   "metadata": {},
   "outputs": [],
   "source": [
    "import os\n",
    "import re\n",
    "import pandas as pd\n",
    "import numpy as np\n",
    "from datetime import datetime"
   ]
  },
  {
   "cell_type": "code",
   "execution_count": 2,
   "metadata": {},
   "outputs": [],
   "source": [
    "TOPDIR = '/mnt/darren/quaranta2/Cytation/2020-10-08'\n",
    "\n",
    "def parseFileName(filename):\n",
    "    filename = os.path.basename(filename)\n",
    "    x = filename.split(\".\")[0]\n",
    "    well = x.split(\"_\")[0]\n",
    "    ch = x.split(\"_\")[4]\n",
    "    time_i = x.split(\"_\")[5]\n",
    "    out = [well,ch,time_i]\n",
    "    return(out)\n",
    "\n",
    "# [x+1 if x >= 45 else x+5 for x in l]\n",
    "\n",
    "def fixWellName(well_name):\n",
    "    # function to fix well names by ensuring 3-digit length \n",
    "    # (i.e., include preceding 0 in single-digit column numbers) \n",
    "\n",
    "    if isinstance(well_name, list):\n",
    "        return([f'{wn[0]}0{wn[1]}' if len(wn) < 3 else wn for wn in well_name])\n",
    "    elif(isinstance(well_name, str)):\n",
    "        if len(well_name) < 3:\n",
    "            return(f'{well_name[0]}0{well_name[1]}')\n",
    "    else:\n",
    "        well_name\n",
    "\n",
    "def getDateTime(filepath):\n",
    "    pat = \"\\d{6}_\\d{6}\"\n",
    "\n",
    "    d = [re.search(pat, x) for x in filepath]\n",
    "    d = [x[0] for x in d]\n",
    "    d = [datetime.strptime(x, '%y%m%d_%H%M%S%f') for x in d]\n",
    "    o = [x.strftime(\"%Y-%m-%d %H:%M:%S\") for x in d]\n",
    "    return(o)\n",
    "\n",
    "def getTimeIdx(filepath):\n",
    "    pat = \"Experiment\\d{1,2}\"\n",
    "    i = [re.search(pat,x) for x in filepath]\n",
    "    i = [x[0] for x in i]\n",
    "    i = [int(x.strip(\"Experiment\")) for x in i]\n",
    "    return(i)"
   ]
  },
  {
   "cell_type": "markdown",
   "metadata": {},
   "source": [
    "#### Find all image files"
   ]
  },
  {
   "cell_type": "code",
   "execution_count": 3,
   "metadata": {},
   "outputs": [
    {
     "name": "stdout",
     "output_type": "stream",
     "text": [
      "20160 files were found.\n",
      "42 directories were found\n",
      "The file E7_02_1_1_RFP_001.tif has a complete path.\n"
     ]
    }
   ],
   "source": [
    "os.chdir(TOPDIR)\n",
    "fn = []\n",
    "dn = []\n",
    "\n",
    "for (dirpath, dirnames, filenames) in os.walk(TOPDIR):\n",
    "    fn += [os.path.join(dirpath, f) for f in filenames]\n",
    "    dn += [os.path.join(dirpath, d) for d in dirnames]\n",
    "\n",
    "# remove .DS_Store (hiddent Spotlight) files, if present\n",
    "fn = [f for f in fn if \".DS_Store\" not in f]\n",
    "\n",
    "print(f\"{len(fn)} files were found.\")\n",
    "print(f\"{len(dn)} directories were found\")\n",
    "\n",
    "if(os.path.isfile(fn[0])):\n",
    "    print(f\"The file {os.path.basename(fn[0])} has a complete path.\")\n",
    "else:\n",
    "    print(f\"The file {os.path.basename(fn[0])} does NOT have a complete path.\")"
   ]
  },
  {
   "cell_type": "code",
   "execution_count": 4,
   "metadata": {},
   "outputs": [
    {
     "data": {
      "text/plain": [
       "['/mnt/darren/quaranta2/Cytation/2020-10-02/201002_175058_Experiment1/201002_175058_Plate 1/B10_02_1_1_RFP_001.tif',\n",
       " '/mnt/darren/quaranta2/Cytation/2020-10-02/201002_175058_Experiment1/201002_175058_Plate 1/B10_02_1_2_RFP_001.tif',\n",
       " '/mnt/darren/quaranta2/Cytation/2020-10-02/201002_175058_Experiment1/201002_175058_Plate 1/B10_02_2_1_GFP_001.tif',\n",
       " '/mnt/darren/quaranta2/Cytation/2020-10-02/201002_175058_Experiment1/201002_175058_Plate 1/B10_02_2_2_GFP_001.tif',\n",
       " '/mnt/darren/quaranta2/Cytation/2020-10-02/201002_175058_Experiment1/201002_175058_Plate 1/B11_02_1_1_RFP_001.tif',\n",
       " '/mnt/darren/quaranta2/Cytation/2020-10-02/201002_175058_Experiment1/201002_175058_Plate 1/B11_02_1_2_RFP_001.tif']"
      ]
     },
     "execution_count": 4,
     "metadata": {},
     "output_type": "execute_result"
    }
   ],
   "source": [
    "fn.sort()\n",
    "fn[:6]\n",
    "# fn[20150:]"
   ]
  },
  {
   "cell_type": "markdown",
   "metadata": {},
   "source": [
    "#### Filename structure\n",
    "Example filename: `B10_04_1_1_RFP_001.tif`  \n",
    "\n",
    "* `B10` = well  \n",
    "* `04` = unknown  \n",
    "* `1` = channel number (`1` or `2` in these data)  \n",
    "* `1` = position number (`1` or `2` in these data)  \n",
    "* `RFP` = channel name (`RFP` or `GFP` in these data)  \n",
    "* `001` = time point index (only `001` in these data; actual time point index in enclosing directory (2 up) `Experiment[0-9]{1,2}`)  \n",
    "* `tif` = image file format (only `tif` in these data)  \n",
    "\n",
    "\n"
   ]
  },
  {
   "cell_type": "code",
   "execution_count": null,
   "metadata": {},
   "outputs": [],
   "source": []
  },
  {
   "cell_type": "code",
   "execution_count": null,
   "metadata": {},
   "outputs": [],
   "source": []
  },
  {
   "cell_type": "code",
   "execution_count": 5,
   "metadata": {},
   "outputs": [],
   "source": [
    "file_info = pd.DataFrame([parseFileName(x) for x in fn])\n",
    "file_info.columns = ['well','ch','time_i']\n",
    "file_info['file_name'] = fn"
   ]
  },
  {
   "cell_type": "code",
   "execution_count": 6,
   "metadata": {},
   "outputs": [
    {
     "data": {
      "text/html": [
       "<div>\n",
       "<style scoped>\n",
       "    .dataframe tbody tr th:only-of-type {\n",
       "        vertical-align: middle;\n",
       "    }\n",
       "\n",
       "    .dataframe tbody tr th {\n",
       "        vertical-align: top;\n",
       "    }\n",
       "\n",
       "    .dataframe thead th {\n",
       "        text-align: right;\n",
       "    }\n",
       "</style>\n",
       "<table border=\"1\" class=\"dataframe\">\n",
       "  <thead>\n",
       "    <tr style=\"text-align: right;\">\n",
       "      <th></th>\n",
       "      <th>well</th>\n",
       "      <th>ch</th>\n",
       "      <th>time_i</th>\n",
       "      <th>file_name</th>\n",
       "    </tr>\n",
       "  </thead>\n",
       "  <tbody>\n",
       "    <tr>\n",
       "      <th>0</th>\n",
       "      <td>B10</td>\n",
       "      <td>RFP</td>\n",
       "      <td>001</td>\n",
       "      <td>/mnt/darren/quaranta2/Cytation/2020-10-02/2010...</td>\n",
       "    </tr>\n",
       "    <tr>\n",
       "      <th>1</th>\n",
       "      <td>B10</td>\n",
       "      <td>RFP</td>\n",
       "      <td>001</td>\n",
       "      <td>/mnt/darren/quaranta2/Cytation/2020-10-02/2010...</td>\n",
       "    </tr>\n",
       "    <tr>\n",
       "      <th>2</th>\n",
       "      <td>B10</td>\n",
       "      <td>GFP</td>\n",
       "      <td>001</td>\n",
       "      <td>/mnt/darren/quaranta2/Cytation/2020-10-02/2010...</td>\n",
       "    </tr>\n",
       "    <tr>\n",
       "      <th>3</th>\n",
       "      <td>B10</td>\n",
       "      <td>GFP</td>\n",
       "      <td>001</td>\n",
       "      <td>/mnt/darren/quaranta2/Cytation/2020-10-02/2010...</td>\n",
       "    </tr>\n",
       "    <tr>\n",
       "      <th>4</th>\n",
       "      <td>B11</td>\n",
       "      <td>RFP</td>\n",
       "      <td>001</td>\n",
       "      <td>/mnt/darren/quaranta2/Cytation/2020-10-02/2010...</td>\n",
       "    </tr>\n",
       "  </tbody>\n",
       "</table>\n",
       "</div>"
      ],
      "text/plain": [
       "  well   ch time_i                                          file_name\n",
       "0  B10  RFP    001  /mnt/darren/quaranta2/Cytation/2020-10-02/2010...\n",
       "1  B10  RFP    001  /mnt/darren/quaranta2/Cytation/2020-10-02/2010...\n",
       "2  B10  GFP    001  /mnt/darren/quaranta2/Cytation/2020-10-02/2010...\n",
       "3  B10  GFP    001  /mnt/darren/quaranta2/Cytation/2020-10-02/2010...\n",
       "4  B11  RFP    001  /mnt/darren/quaranta2/Cytation/2020-10-02/2010..."
      ]
     },
     "execution_count": 6,
     "metadata": {},
     "output_type": "execute_result"
    }
   ],
   "source": [
    "file_info.head()"
   ]
  },
  {
   "cell_type": "code",
   "execution_count": 7,
   "metadata": {},
   "outputs": [],
   "source": [
    "red = file_info.loc[file_info['ch']=='RFP','file_name']\n",
    "red = red.reset_index(drop=True)\n",
    "green = file_info.loc[file_info['ch']=='GFP','file_name']\n",
    "green = green.reset_index(drop=True)"
   ]
  },
  {
   "cell_type": "code",
   "execution_count": 8,
   "metadata": {},
   "outputs": [],
   "source": [
    "wells = file_info.loc[file_info['ch']=='RFP','well']\n",
    "wells = wells.reset_index(drop=True)\n",
    "wells = fixWellName(wells.tolist())\n",
    "wells = pd.Series(wells)"
   ]
  },
  {
   "cell_type": "code",
   "execution_count": 9,
   "metadata": {},
   "outputs": [],
   "source": [
    "temp = pd.DataFrame({'image_time': getDateTime(file_info.loc[file_info['ch']=='RFP','file_name']),\n",
    "                     'time_i': getTimeIdx(file_info.loc[file_info['ch']=='RFP','file_name'])})"
   ]
  },
  {
   "cell_type": "code",
   "execution_count": 10,
   "metadata": {},
   "outputs": [],
   "source": [
    "taskargs = pd.DataFrame({\n",
    "                        'ch2_im_path': green,\n",
    "                        'nuc_im_path': red,\n",
    "                        'overwrite': 'TRUE',\n",
    "                        'plate_id': temp['time_i'],\n",
    "                        'regprops': 'FALSE',\n",
    "                        'save_path': os.path.join(TOPDIR,'Segmentation'),\n",
    "                        'well': wells\n",
    "})"
   ]
  },
  {
   "cell_type": "code",
   "execution_count": 11,
   "metadata": {},
   "outputs": [
    {
     "data": {
      "text/html": [
       "<div>\n",
       "<style scoped>\n",
       "    .dataframe tbody tr th:only-of-type {\n",
       "        vertical-align: middle;\n",
       "    }\n",
       "\n",
       "    .dataframe tbody tr th {\n",
       "        vertical-align: top;\n",
       "    }\n",
       "\n",
       "    .dataframe thead th {\n",
       "        text-align: right;\n",
       "    }\n",
       "</style>\n",
       "<table border=\"1\" class=\"dataframe\">\n",
       "  <thead>\n",
       "    <tr style=\"text-align: right;\">\n",
       "      <th></th>\n",
       "      <th>ch2_im_path</th>\n",
       "      <th>nuc_im_path</th>\n",
       "      <th>overwrite</th>\n",
       "      <th>plate_id</th>\n",
       "      <th>regprops</th>\n",
       "      <th>save_path</th>\n",
       "      <th>well</th>\n",
       "    </tr>\n",
       "  </thead>\n",
       "  <tbody>\n",
       "    <tr>\n",
       "      <th>0</th>\n",
       "      <td>/mnt/darren/quaranta2/Cytation/2020-10-02/2010...</td>\n",
       "      <td>/mnt/darren/quaranta2/Cytation/2020-10-02/2010...</td>\n",
       "      <td>TRUE</td>\n",
       "      <td>1</td>\n",
       "      <td>FALSE</td>\n",
       "      <td>/mnt/darren/quaranta2/Cytation/2020-10-02/Segm...</td>\n",
       "      <td>B10</td>\n",
       "    </tr>\n",
       "    <tr>\n",
       "      <th>1</th>\n",
       "      <td>/mnt/darren/quaranta2/Cytation/2020-10-02/2010...</td>\n",
       "      <td>/mnt/darren/quaranta2/Cytation/2020-10-02/2010...</td>\n",
       "      <td>TRUE</td>\n",
       "      <td>1</td>\n",
       "      <td>FALSE</td>\n",
       "      <td>/mnt/darren/quaranta2/Cytation/2020-10-02/Segm...</td>\n",
       "      <td>B10</td>\n",
       "    </tr>\n",
       "    <tr>\n",
       "      <th>2</th>\n",
       "      <td>/mnt/darren/quaranta2/Cytation/2020-10-02/2010...</td>\n",
       "      <td>/mnt/darren/quaranta2/Cytation/2020-10-02/2010...</td>\n",
       "      <td>TRUE</td>\n",
       "      <td>1</td>\n",
       "      <td>FALSE</td>\n",
       "      <td>/mnt/darren/quaranta2/Cytation/2020-10-02/Segm...</td>\n",
       "      <td>B11</td>\n",
       "    </tr>\n",
       "    <tr>\n",
       "      <th>3</th>\n",
       "      <td>/mnt/darren/quaranta2/Cytation/2020-10-02/2010...</td>\n",
       "      <td>/mnt/darren/quaranta2/Cytation/2020-10-02/2010...</td>\n",
       "      <td>TRUE</td>\n",
       "      <td>1</td>\n",
       "      <td>FALSE</td>\n",
       "      <td>/mnt/darren/quaranta2/Cytation/2020-10-02/Segm...</td>\n",
       "      <td>B11</td>\n",
       "    </tr>\n",
       "    <tr>\n",
       "      <th>4</th>\n",
       "      <td>/mnt/darren/quaranta2/Cytation/2020-10-02/2010...</td>\n",
       "      <td>/mnt/darren/quaranta2/Cytation/2020-10-02/2010...</td>\n",
       "      <td>TRUE</td>\n",
       "      <td>1</td>\n",
       "      <td>FALSE</td>\n",
       "      <td>/mnt/darren/quaranta2/Cytation/2020-10-02/Segm...</td>\n",
       "      <td>B12</td>\n",
       "    </tr>\n",
       "  </tbody>\n",
       "</table>\n",
       "</div>"
      ],
      "text/plain": [
       "                                         ch2_im_path  \\\n",
       "0  /mnt/darren/quaranta2/Cytation/2020-10-02/2010...   \n",
       "1  /mnt/darren/quaranta2/Cytation/2020-10-02/2010...   \n",
       "2  /mnt/darren/quaranta2/Cytation/2020-10-02/2010...   \n",
       "3  /mnt/darren/quaranta2/Cytation/2020-10-02/2010...   \n",
       "4  /mnt/darren/quaranta2/Cytation/2020-10-02/2010...   \n",
       "\n",
       "                                         nuc_im_path overwrite  plate_id  \\\n",
       "0  /mnt/darren/quaranta2/Cytation/2020-10-02/2010...      TRUE         1   \n",
       "1  /mnt/darren/quaranta2/Cytation/2020-10-02/2010...      TRUE         1   \n",
       "2  /mnt/darren/quaranta2/Cytation/2020-10-02/2010...      TRUE         1   \n",
       "3  /mnt/darren/quaranta2/Cytation/2020-10-02/2010...      TRUE         1   \n",
       "4  /mnt/darren/quaranta2/Cytation/2020-10-02/2010...      TRUE         1   \n",
       "\n",
       "  regprops                                          save_path well  \n",
       "0    FALSE  /mnt/darren/quaranta2/Cytation/2020-10-02/Segm...  B10  \n",
       "1    FALSE  /mnt/darren/quaranta2/Cytation/2020-10-02/Segm...  B10  \n",
       "2    FALSE  /mnt/darren/quaranta2/Cytation/2020-10-02/Segm...  B11  \n",
       "3    FALSE  /mnt/darren/quaranta2/Cytation/2020-10-02/Segm...  B11  \n",
       "4    FALSE  /mnt/darren/quaranta2/Cytation/2020-10-02/Segm...  B12  "
      ]
     },
     "execution_count": 11,
     "metadata": {},
     "output_type": "execute_result"
    }
   ],
   "source": [
    "taskargs.head()"
   ]
  },
  {
   "cell_type": "markdown",
   "metadata": {},
   "source": [
    "#### Save Task Arguments to file\n",
    "(Will not overwrite if file exists; must delete previous to write new file.)"
   ]
  },
  {
   "cell_type": "code",
   "execution_count": 12,
   "metadata": {},
   "outputs": [],
   "source": [
    "argfilepath = os.path.join(TOPDIR,'TaskArgs_20201002.csv')\n",
    "if not os.path.isfile(argfilepath):\n",
    "    taskargs.to_csv(argfilepath, index=False)"
   ]
  },
  {
   "cell_type": "markdown",
   "metadata": {},
   "source": [
    "#### Examine some processing output"
   ]
  },
  {
   "cell_type": "code",
   "execution_count": 13,
   "metadata": {},
   "outputs": [],
   "source": [
    "import sys\n",
    "sys.path.append(r'/home/darren/git-repos/Segmentation-other/py-seg')"
   ]
  },
  {
   "cell_type": "code",
   "execution_count": 14,
   "metadata": {},
   "outputs": [],
   "source": [
    "from MXtasksTempo import processIm\n",
    "import cv2\n",
    "import numpy as np\n",
    "from pylab import imshow, gray"
   ]
  },
  {
   "cell_type": "code",
   "execution_count": 17,
   "metadata": {},
   "outputs": [],
   "source": [
    "processIm(taskargs.loc[1].to_list())"
   ]
  },
  {
   "cell_type": "markdown",
   "metadata": {},
   "source": [
    "Output worked ok, although most objects identified as Ch2-positive. Unclear whether this represents actual dead cells or is artifactual."
   ]
  },
  {
   "cell_type": "markdown",
   "metadata": {},
   "source": [
    "### Set up celery workers and send jobs to RabbitMQ\n",
    "This is done via `ssh` to `tempo` in the `improc` Conda environment. Must also be in `~/git-repos/Segmentation-other/py-seg/`  \n",
    "\n",
    "Must specify maximum concurrency when calling Celery worker.  \n",
    "\n",
    "Then execute:  \n",
    "`screen`\n",
    "`celery -A MXtasksTempo worker --concurrency=120`  \n",
    "<ctrl-A,D>  \n",
    "\n",
    "\n",
    "`python sendMXtempoJobs.py /mnt/darren/quaranta2/Cytation/2020-10-02/TaskArgs_20201002.csv`  \n",
    "\n"
   ]
  },
  {
   "cell_type": "code",
   "execution_count": null,
   "metadata": {},
   "outputs": [],
   "source": []
  },
  {
   "cell_type": "code",
   "execution_count": null,
   "metadata": {},
   "outputs": [],
   "source": []
  },
  {
   "cell_type": "code",
   "execution_count": null,
   "metadata": {},
   "outputs": [],
   "source": []
  }
 ],
 "metadata": {
  "kernelspec": {
   "display_name": "improc",
   "language": "python",
   "name": "improc"
  },
  "language_info": {
   "codemirror_mode": {
    "name": "ipython",
    "version": 3
   },
   "file_extension": ".py",
   "mimetype": "text/x-python",
   "name": "python",
   "nbconvert_exporter": "python",
   "pygments_lexer": "ipython3",
   "version": "3.7.1"
  }
 },
 "nbformat": 4,
 "nbformat_minor": 4
}
