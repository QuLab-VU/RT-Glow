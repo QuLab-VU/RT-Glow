{
 "cells": [
  {
   "cell_type": "markdown",
   "metadata": {},
   "source": [
    "### Image processing Cytation data\n",
    "Clayton Wandishin experiment  \n",
    "2020-09-17  "
   ]
  },
  {
   "cell_type": "code",
   "execution_count": 1,
   "metadata": {},
   "outputs": [],
   "source": [
    "import os\n",
    "import re\n",
    "import pandas as pd\n",
    "import numpy as np\n",
    "from datetime import datetime, date"
   ]
  },
  {
   "cell_type": "markdown",
   "metadata": {},
   "source": [
    "#### Define location of data"
   ]
  },
  {
   "cell_type": "code",
   "execution_count": 2,
   "metadata": {},
   "outputs": [],
   "source": [
    "TOPDIR = \"/mnt/darren/quaranta2/Cytation/2020-11-02\"\n",
    "IMDIR = os.path.join(TOPDIR,\"images\")\n",
    "\n",
    "def parseFileName(filename):\n",
    "    filename = os.path.basename(filename)\n",
    "    x = filename.split(\".\")[0]\n",
    "    well = x.split(\"_\")[0]\n",
    "    pos = x.split(\"_\")[3]\n",
    "    ch = x.split(\"_\")[4]\n",
    "    time_i = x.split(\"_\")[5]\n",
    "    out = [well,ch,pos,time_i]\n",
    "    return(out)\n",
    "\n",
    "# [x+1 if x >= 45 else x+5 for x in l]\n",
    "\n",
    "def fixWellName(well_name):\n",
    "    # function to fix well names by ensuring 3-digit length \n",
    "    # (i.e., include preceding 0 in single-digit column numbers) \n",
    "\n",
    "    if isinstance(well_name, list):\n",
    "        return([f'{wn[0]}0{wn[1]}' if len(wn) < 3 else wn for wn in well_name])\n",
    "    elif(isinstance(well_name, str)):\n",
    "        if len(well_name) < 3:\n",
    "            return(f'{well_name[0]}0{well_name[1]}')\n",
    "    else:\n",
    "        well_name\n",
    "\n",
    "def getDateTime(filepath):\n",
    "    pat = \"\\d{6}_\\d{6}\"\n",
    "\n",
    "    d = [re.search(pat, x) for x in filepath]\n",
    "    d = [x[0] for x in d]\n",
    "    d = [datetime.strptime(x, '%y%m%d_%H%M%S%f') for x in d]\n",
    "    o = [x.strftime(\"%Y-%m-%d %H:%M:%S\") for x in d]\n",
    "    return(o)\n",
    "\n",
    "def getTimeIdx(filepath):\n",
    "    pat = \"Experiment\\d{1,2}\"\n",
    "    i = [re.search(pat,x) for x in filepath]\n",
    "    i = [x[0] for x in i]\n",
    "    i = [int(x.strip(\"Experiment\")) for x in i]\n",
    "    return(i)\n"
   ]
  },
  {
   "cell_type": "markdown",
   "metadata": {},
   "source": [
    "#### Find all image files"
   ]
  },
  {
   "cell_type": "code",
   "execution_count": 3,
   "metadata": {},
   "outputs": [
    {
     "name": "stdout",
     "output_type": "stream",
     "text": [
      "164620 files were found.\n",
      "467 directories were found\n",
      "The file E7_02_1_1_RFP_001.tif has a complete path.\n"
     ]
    }
   ],
   "source": [
    "os.chdir(IMDIR)\n",
    "fn = []\n",
    "dn = []\n",
    "\n",
    "for (dirpath, dirnames, filenames) in os.walk(IMDIR):\n",
    "    fn += [os.path.join(dirpath, f) for f in filenames]\n",
    "    dn += [os.path.join(dirpath, d) for d in dirnames]\n",
    "\n",
    "# remove .DS_Store (hiddent Spotlight) files, if present\n",
    "fn = [f for f in fn if \".DS_Store\" not in f]\n",
    "\n",
    "# keep only TIFF files\n",
    "fn = [f for f in fn if \"Segmentation\" not in f]\n",
    "fn = [f for f in fn if \"csv\" not in f]\n",
    "\n",
    "print(f\"{len(fn)} files were found.\")\n",
    "print(f\"{len(dn)} directories were found\")\n",
    "\n",
    "if(os.path.isfile(fn[0])):\n",
    "    print(f\"The file {os.path.basename(fn[0])} has a complete path.\")\n",
    "else:\n",
    "    print(f\"The file {os.path.basename(fn[0])} does NOT have a complete path.\")"
   ]
  },
  {
   "cell_type": "code",
   "execution_count": 4,
   "metadata": {},
   "outputs": [
    {
     "data": {
      "text/plain": [
       "['/mnt/darren/quaranta2/Cytation/2020-11-02/images/201103_040216_Experiment1/201103_040216_!PLATE_BARCODE!/B10_02_1_1_RFP_001.tif',\n",
       " '/mnt/darren/quaranta2/Cytation/2020-11-02/images/201103_040216_Experiment1/201103_040216_!PLATE_BARCODE!/B10_02_1_2_RFP_001.tif',\n",
       " '/mnt/darren/quaranta2/Cytation/2020-11-02/images/201103_040216_Experiment1/201103_040216_!PLATE_BARCODE!/B10_02_2_1_GFP_001.tif',\n",
       " '/mnt/darren/quaranta2/Cytation/2020-11-02/images/201103_040216_Experiment1/201103_040216_!PLATE_BARCODE!/B10_02_2_2_GFP_001.tif',\n",
       " '/mnt/darren/quaranta2/Cytation/2020-11-02/images/201103_040216_Experiment1/201103_040216_!PLATE_BARCODE!/B11_02_1_1_RFP_001.tif',\n",
       " '/mnt/darren/quaranta2/Cytation/2020-11-02/images/201103_040216_Experiment1/201103_040216_!PLATE_BARCODE!/B11_02_1_2_RFP_001.tif']"
      ]
     },
     "execution_count": 4,
     "metadata": {},
     "output_type": "execute_result"
    }
   ],
   "source": [
    "fn.sort()\n",
    "fn[:6]"
   ]
  },
  {
   "cell_type": "markdown",
   "metadata": {},
   "source": [
    "#### Filename structure\n",
    "Example filename: `B10_04_1_1_RFP_001.tif`  \n",
    "\n",
    "* `B10` = well  \n",
    "* `04` = unknown  \n",
    "* `1` = channel number (`1` or `2` in these data)  \n",
    "* `1` = position number (only single position per well in these data)  \n",
    "* `RFP` = channel name (`RFP` or `GFP` in these data)  \n",
    "* `001` = time point index (`001` through `010` in these data)  \n",
    "* `tif` = image file format (only `tif` in these data)  \n",
    "\n"
   ]
  },
  {
   "cell_type": "code",
   "execution_count": 5,
   "metadata": {},
   "outputs": [],
   "source": [
    "file_info = pd.DataFrame([parseFileName(x) for x in fn])\n",
    "file_info.columns = ['well','ch','pos','time_i']\n",
    "file_info['file_name'] = fn"
   ]
  },
  {
   "cell_type": "code",
   "execution_count": 6,
   "metadata": {},
   "outputs": [
    {
     "data": {
      "text/html": [
       "<div>\n",
       "<style scoped>\n",
       "    .dataframe tbody tr th:only-of-type {\n",
       "        vertical-align: middle;\n",
       "    }\n",
       "\n",
       "    .dataframe tbody tr th {\n",
       "        vertical-align: top;\n",
       "    }\n",
       "\n",
       "    .dataframe thead th {\n",
       "        text-align: right;\n",
       "    }\n",
       "</style>\n",
       "<table border=\"1\" class=\"dataframe\">\n",
       "  <thead>\n",
       "    <tr style=\"text-align: right;\">\n",
       "      <th></th>\n",
       "      <th>well</th>\n",
       "      <th>ch</th>\n",
       "      <th>pos</th>\n",
       "      <th>time_i</th>\n",
       "      <th>file_name</th>\n",
       "    </tr>\n",
       "  </thead>\n",
       "  <tbody>\n",
       "    <tr>\n",
       "      <th>0</th>\n",
       "      <td>B10</td>\n",
       "      <td>RFP</td>\n",
       "      <td>1</td>\n",
       "      <td>001</td>\n",
       "      <td>/mnt/darren/quaranta2/Cytation/2020-11-02/imag...</td>\n",
       "    </tr>\n",
       "    <tr>\n",
       "      <th>1</th>\n",
       "      <td>B10</td>\n",
       "      <td>RFP</td>\n",
       "      <td>2</td>\n",
       "      <td>001</td>\n",
       "      <td>/mnt/darren/quaranta2/Cytation/2020-11-02/imag...</td>\n",
       "    </tr>\n",
       "    <tr>\n",
       "      <th>2</th>\n",
       "      <td>B10</td>\n",
       "      <td>GFP</td>\n",
       "      <td>1</td>\n",
       "      <td>001</td>\n",
       "      <td>/mnt/darren/quaranta2/Cytation/2020-11-02/imag...</td>\n",
       "    </tr>\n",
       "    <tr>\n",
       "      <th>3</th>\n",
       "      <td>B10</td>\n",
       "      <td>GFP</td>\n",
       "      <td>2</td>\n",
       "      <td>001</td>\n",
       "      <td>/mnt/darren/quaranta2/Cytation/2020-11-02/imag...</td>\n",
       "    </tr>\n",
       "    <tr>\n",
       "      <th>4</th>\n",
       "      <td>B11</td>\n",
       "      <td>RFP</td>\n",
       "      <td>1</td>\n",
       "      <td>001</td>\n",
       "      <td>/mnt/darren/quaranta2/Cytation/2020-11-02/imag...</td>\n",
       "    </tr>\n",
       "  </tbody>\n",
       "</table>\n",
       "</div>"
      ],
      "text/plain": [
       "  well   ch pos time_i                                          file_name\n",
       "0  B10  RFP   1    001  /mnt/darren/quaranta2/Cytation/2020-11-02/imag...\n",
       "1  B10  RFP   2    001  /mnt/darren/quaranta2/Cytation/2020-11-02/imag...\n",
       "2  B10  GFP   1    001  /mnt/darren/quaranta2/Cytation/2020-11-02/imag...\n",
       "3  B10  GFP   2    001  /mnt/darren/quaranta2/Cytation/2020-11-02/imag...\n",
       "4  B11  RFP   1    001  /mnt/darren/quaranta2/Cytation/2020-11-02/imag..."
      ]
     },
     "execution_count": 6,
     "metadata": {},
     "output_type": "execute_result"
    }
   ],
   "source": [
    "file_info.head()"
   ]
  },
  {
   "cell_type": "code",
   "execution_count": 7,
   "metadata": {},
   "outputs": [],
   "source": [
    "red = file_info.loc[file_info['ch']=='RFP','file_name']\n",
    "red = red.reset_index(drop=True)\n",
    "green = file_info.loc[file_info['ch']=='GFP','file_name']\n",
    "green = green.reset_index(drop=True)"
   ]
  },
  {
   "cell_type": "code",
   "execution_count": 8,
   "metadata": {},
   "outputs": [],
   "source": [
    "wells = file_info.loc[file_info['ch']=='RFP','well']\n",
    "wells = wells.reset_index(drop=True)\n",
    "wells = fixWellName(wells.tolist())\n",
    "wells = pd.Series(wells)\n"
   ]
  },
  {
   "cell_type": "code",
   "execution_count": 9,
   "metadata": {},
   "outputs": [
    {
     "data": {
      "text/plain": [
       "0    B10\n",
       "1    B10\n",
       "2    B11\n",
       "3    B11\n",
       "4    B12\n",
       "dtype: object"
      ]
     },
     "execution_count": 9,
     "metadata": {},
     "output_type": "execute_result"
    }
   ],
   "source": [
    "wells.head()"
   ]
  },
  {
   "cell_type": "code",
   "execution_count": 10,
   "metadata": {},
   "outputs": [],
   "source": [
    "temp = pd.DataFrame({'image_time': getDateTime(file_info.loc[file_info['ch']=='RFP','file_name']),\n",
    "                     'time_i': getTimeIdx(file_info.loc[file_info['ch']=='RFP','file_name'])})"
   ]
  },
  {
   "cell_type": "code",
   "execution_count": 11,
   "metadata": {},
   "outputs": [
    {
     "data": {
      "text/html": [
       "<div>\n",
       "<style scoped>\n",
       "    .dataframe tbody tr th:only-of-type {\n",
       "        vertical-align: middle;\n",
       "    }\n",
       "\n",
       "    .dataframe tbody tr th {\n",
       "        vertical-align: top;\n",
       "    }\n",
       "\n",
       "    .dataframe thead th {\n",
       "        text-align: right;\n",
       "    }\n",
       "</style>\n",
       "<table border=\"1\" class=\"dataframe\">\n",
       "  <thead>\n",
       "    <tr style=\"text-align: right;\">\n",
       "      <th></th>\n",
       "      <th>image_time</th>\n",
       "      <th>time_i</th>\n",
       "    </tr>\n",
       "  </thead>\n",
       "  <tbody>\n",
       "    <tr>\n",
       "      <th>0</th>\n",
       "      <td>2020-11-03 04:02:01</td>\n",
       "      <td>1</td>\n",
       "    </tr>\n",
       "    <tr>\n",
       "      <th>1</th>\n",
       "      <td>2020-11-03 04:02:01</td>\n",
       "      <td>1</td>\n",
       "    </tr>\n",
       "    <tr>\n",
       "      <th>2</th>\n",
       "      <td>2020-11-03 04:02:01</td>\n",
       "      <td>1</td>\n",
       "    </tr>\n",
       "    <tr>\n",
       "      <th>3</th>\n",
       "      <td>2020-11-03 04:02:01</td>\n",
       "      <td>1</td>\n",
       "    </tr>\n",
       "    <tr>\n",
       "      <th>4</th>\n",
       "      <td>2020-11-03 04:02:01</td>\n",
       "      <td>1</td>\n",
       "    </tr>\n",
       "  </tbody>\n",
       "</table>\n",
       "</div>"
      ],
      "text/plain": [
       "            image_time  time_i\n",
       "0  2020-11-03 04:02:01       1\n",
       "1  2020-11-03 04:02:01       1\n",
       "2  2020-11-03 04:02:01       1\n",
       "3  2020-11-03 04:02:01       1\n",
       "4  2020-11-03 04:02:01       1"
      ]
     },
     "execution_count": 11,
     "metadata": {},
     "output_type": "execute_result"
    }
   ],
   "source": [
    "temp.head()"
   ]
  },
  {
   "cell_type": "markdown",
   "metadata": {},
   "source": [
    "#### Generate plate lookup table\n",
    "Currently (as of 2020-11-24) the `processIm` function of py-seg expects an integer value for `plate_id`. To bypass this I will make a table of integers that correspond to the unique `\n"
   ]
  },
  {
   "cell_type": "code",
   "execution_count": 12,
   "metadata": {},
   "outputs": [],
   "source": [
    "pid_str = [os.path.basename(os.path.dirname(os.path.dirname(x))) for x in red]\n",
    "pid_unique = np.unique(pid_str)\n",
    "pid_int = [10000+int(np.where(pid_unique == x)[0]) for x in pid_str]\n",
    "pid_lookup = pd.DataFrame({'PlateId':pid_unique, 'PlateInt':np.unique(pid_int)})"
   ]
  },
  {
   "cell_type": "code",
   "execution_count": 13,
   "metadata": {},
   "outputs": [
    {
     "data": {
      "text/html": [
       "<div>\n",
       "<style scoped>\n",
       "    .dataframe tbody tr th:only-of-type {\n",
       "        vertical-align: middle;\n",
       "    }\n",
       "\n",
       "    .dataframe tbody tr th {\n",
       "        vertical-align: top;\n",
       "    }\n",
       "\n",
       "    .dataframe thead th {\n",
       "        text-align: right;\n",
       "    }\n",
       "</style>\n",
       "<table border=\"1\" class=\"dataframe\">\n",
       "  <thead>\n",
       "    <tr style=\"text-align: right;\">\n",
       "      <th></th>\n",
       "      <th>PlateId</th>\n",
       "      <th>PlateInt</th>\n",
       "    </tr>\n",
       "  </thead>\n",
       "  <tbody>\n",
       "    <tr>\n",
       "      <th>0</th>\n",
       "      <td>201103_040216_Experiment1</td>\n",
       "      <td>10000</td>\n",
       "    </tr>\n",
       "    <tr>\n",
       "      <th>1</th>\n",
       "      <td>201103_044040_Experiment2</td>\n",
       "      <td>10001</td>\n",
       "    </tr>\n",
       "    <tr>\n",
       "      <th>2</th>\n",
       "      <td>201103_051850_Experiment3</td>\n",
       "      <td>10002</td>\n",
       "    </tr>\n",
       "    <tr>\n",
       "      <th>3</th>\n",
       "      <td>201103_055703_Experiment4</td>\n",
       "      <td>10003</td>\n",
       "    </tr>\n",
       "    <tr>\n",
       "      <th>4</th>\n",
       "      <td>201103_063518_Experiment5</td>\n",
       "      <td>10004</td>\n",
       "    </tr>\n",
       "  </tbody>\n",
       "</table>\n",
       "</div>"
      ],
      "text/plain": [
       "                     PlateId  PlateInt\n",
       "0  201103_040216_Experiment1     10000\n",
       "1  201103_044040_Experiment2     10001\n",
       "2  201103_051850_Experiment3     10002\n",
       "3  201103_055703_Experiment4     10003\n",
       "4  201103_063518_Experiment5     10004"
      ]
     },
     "execution_count": 13,
     "metadata": {},
     "output_type": "execute_result"
    }
   ],
   "source": [
    "pid_lookup.head()"
   ]
  },
  {
   "cell_type": "code",
   "execution_count": 14,
   "metadata": {},
   "outputs": [],
   "source": [
    "if not os.path.exists(os.path.join(TOPDIR, \"PlateID_lookup_table.csv\")):\n",
    "    pid_lookup.to_csv(os.path.join(TOPDIR, \"PlateID_lookup_table.csv\"))"
   ]
  },
  {
   "cell_type": "code",
   "execution_count": null,
   "metadata": {},
   "outputs": [],
   "source": []
  },
  {
   "cell_type": "code",
   "execution_count": 15,
   "metadata": {},
   "outputs": [],
   "source": [
    "taskargs = pd.DataFrame({\n",
    "                        'ch2_im_path': green,\n",
    "                        'nuc_im_path': red,\n",
    "                        'overwrite': 'FALSE',\n",
    "                        'plate_id': pid_int,\n",
    "                        'regprops': 'FALSE',\n",
    "                        'save_path': os.path.join(TOPDIR,'Segmentation'),\n",
    "                        'well': wells\n",
    "})"
   ]
  },
  {
   "cell_type": "code",
   "execution_count": 16,
   "metadata": {},
   "outputs": [
    {
     "data": {
      "text/html": [
       "<div>\n",
       "<style scoped>\n",
       "    .dataframe tbody tr th:only-of-type {\n",
       "        vertical-align: middle;\n",
       "    }\n",
       "\n",
       "    .dataframe tbody tr th {\n",
       "        vertical-align: top;\n",
       "    }\n",
       "\n",
       "    .dataframe thead th {\n",
       "        text-align: right;\n",
       "    }\n",
       "</style>\n",
       "<table border=\"1\" class=\"dataframe\">\n",
       "  <thead>\n",
       "    <tr style=\"text-align: right;\">\n",
       "      <th></th>\n",
       "      <th>ch2_im_path</th>\n",
       "      <th>nuc_im_path</th>\n",
       "      <th>overwrite</th>\n",
       "      <th>plate_id</th>\n",
       "      <th>regprops</th>\n",
       "      <th>save_path</th>\n",
       "      <th>well</th>\n",
       "    </tr>\n",
       "  </thead>\n",
       "  <tbody>\n",
       "    <tr>\n",
       "      <th>0</th>\n",
       "      <td>/mnt/darren/quaranta2/Cytation/2020-11-02/imag...</td>\n",
       "      <td>/mnt/darren/quaranta2/Cytation/2020-11-02/imag...</td>\n",
       "      <td>FALSE</td>\n",
       "      <td>10000</td>\n",
       "      <td>FALSE</td>\n",
       "      <td>/mnt/darren/quaranta2/Cytation/2020-11-02/Segm...</td>\n",
       "      <td>B10</td>\n",
       "    </tr>\n",
       "    <tr>\n",
       "      <th>1</th>\n",
       "      <td>/mnt/darren/quaranta2/Cytation/2020-11-02/imag...</td>\n",
       "      <td>/mnt/darren/quaranta2/Cytation/2020-11-02/imag...</td>\n",
       "      <td>FALSE</td>\n",
       "      <td>10000</td>\n",
       "      <td>FALSE</td>\n",
       "      <td>/mnt/darren/quaranta2/Cytation/2020-11-02/Segm...</td>\n",
       "      <td>B10</td>\n",
       "    </tr>\n",
       "    <tr>\n",
       "      <th>2</th>\n",
       "      <td>/mnt/darren/quaranta2/Cytation/2020-11-02/imag...</td>\n",
       "      <td>/mnt/darren/quaranta2/Cytation/2020-11-02/imag...</td>\n",
       "      <td>FALSE</td>\n",
       "      <td>10000</td>\n",
       "      <td>FALSE</td>\n",
       "      <td>/mnt/darren/quaranta2/Cytation/2020-11-02/Segm...</td>\n",
       "      <td>B11</td>\n",
       "    </tr>\n",
       "    <tr>\n",
       "      <th>3</th>\n",
       "      <td>/mnt/darren/quaranta2/Cytation/2020-11-02/imag...</td>\n",
       "      <td>/mnt/darren/quaranta2/Cytation/2020-11-02/imag...</td>\n",
       "      <td>FALSE</td>\n",
       "      <td>10000</td>\n",
       "      <td>FALSE</td>\n",
       "      <td>/mnt/darren/quaranta2/Cytation/2020-11-02/Segm...</td>\n",
       "      <td>B11</td>\n",
       "    </tr>\n",
       "    <tr>\n",
       "      <th>4</th>\n",
       "      <td>/mnt/darren/quaranta2/Cytation/2020-11-02/imag...</td>\n",
       "      <td>/mnt/darren/quaranta2/Cytation/2020-11-02/imag...</td>\n",
       "      <td>FALSE</td>\n",
       "      <td>10000</td>\n",
       "      <td>FALSE</td>\n",
       "      <td>/mnt/darren/quaranta2/Cytation/2020-11-02/Segm...</td>\n",
       "      <td>B12</td>\n",
       "    </tr>\n",
       "  </tbody>\n",
       "</table>\n",
       "</div>"
      ],
      "text/plain": [
       "                                         ch2_im_path  \\\n",
       "0  /mnt/darren/quaranta2/Cytation/2020-11-02/imag...   \n",
       "1  /mnt/darren/quaranta2/Cytation/2020-11-02/imag...   \n",
       "2  /mnt/darren/quaranta2/Cytation/2020-11-02/imag...   \n",
       "3  /mnt/darren/quaranta2/Cytation/2020-11-02/imag...   \n",
       "4  /mnt/darren/quaranta2/Cytation/2020-11-02/imag...   \n",
       "\n",
       "                                         nuc_im_path overwrite  plate_id  \\\n",
       "0  /mnt/darren/quaranta2/Cytation/2020-11-02/imag...     FALSE     10000   \n",
       "1  /mnt/darren/quaranta2/Cytation/2020-11-02/imag...     FALSE     10000   \n",
       "2  /mnt/darren/quaranta2/Cytation/2020-11-02/imag...     FALSE     10000   \n",
       "3  /mnt/darren/quaranta2/Cytation/2020-11-02/imag...     FALSE     10000   \n",
       "4  /mnt/darren/quaranta2/Cytation/2020-11-02/imag...     FALSE     10000   \n",
       "\n",
       "  regprops                                          save_path well  \n",
       "0    FALSE  /mnt/darren/quaranta2/Cytation/2020-11-02/Segm...  B10  \n",
       "1    FALSE  /mnt/darren/quaranta2/Cytation/2020-11-02/Segm...  B10  \n",
       "2    FALSE  /mnt/darren/quaranta2/Cytation/2020-11-02/Segm...  B11  \n",
       "3    FALSE  /mnt/darren/quaranta2/Cytation/2020-11-02/Segm...  B11  \n",
       "4    FALSE  /mnt/darren/quaranta2/Cytation/2020-11-02/Segm...  B12  "
      ]
     },
     "execution_count": 16,
     "metadata": {},
     "output_type": "execute_result"
    }
   ],
   "source": [
    "taskargs.head()"
   ]
  },
  {
   "cell_type": "markdown",
   "metadata": {},
   "source": [
    "#### Save Task Arguments to file\n",
    "(Will not overwrite if file exists; must delete previous to write new file.)"
   ]
  },
  {
   "cell_type": "code",
   "execution_count": 17,
   "metadata": {},
   "outputs": [
    {
     "data": {
      "text/plain": [
       "(82311, 7)"
      ]
     },
     "execution_count": 17,
     "metadata": {},
     "output_type": "execute_result"
    }
   ],
   "source": [
    "today = date.today()\n",
    "taskargs.shape"
   ]
  },
  {
   "cell_type": "code",
   "execution_count": 18,
   "metadata": {},
   "outputs": [],
   "source": [
    "argfilepath = os.path.join(TOPDIR,f'TaskArgs_{today}.csv')\n",
    "if not os.path.isfile(argfilepath):\n",
    "    taskargs.to_csv(argfilepath, index=False)\n",
    "    print(f'Saving task file as {argfilepath}')"
   ]
  },
  {
   "cell_type": "code",
   "execution_count": null,
   "metadata": {},
   "outputs": [],
   "source": []
  },
  {
   "cell_type": "markdown",
   "metadata": {},
   "source": [
    "#### Examine some processing output"
   ]
  },
  {
   "cell_type": "code",
   "execution_count": 19,
   "metadata": {},
   "outputs": [],
   "source": [
    "import sys\n",
    "sys.path.append(r'/home/darren/git-repos/Segmentation-other/py-seg')"
   ]
  },
  {
   "cell_type": "code",
   "execution_count": 20,
   "metadata": {},
   "outputs": [],
   "source": [
    "from MXtasksTempo import processIm\n",
    "import cv2\n",
    "import numpy as np\n",
    "from pylab import imshow, gray"
   ]
  },
  {
   "cell_type": "code",
   "execution_count": 21,
   "metadata": {},
   "outputs": [],
   "source": [
    "# processIm(taskargs.loc[200].to_list())"
   ]
  },
  {
   "cell_type": "markdown",
   "metadata": {},
   "source": [
    "### Set up celery workers and send jobs to RabbitMQ\n",
    "This is done via `ssh` to `tempo` in the `improc` Conda environment. Must also be in `~/git-repos/Segmentation-other/py-seg/`  \n",
    "\n",
    "Must specify maximum concurrency when calling Celery worker.  \n",
    "\n",
    "Then execute:  \n",
    "`screen`\n",
    "`celery -A MXtasksTempo worker --concurrency=120`  \n",
    "<ctrl-A,D>  \n",
    "\n",
    "\n",
    "`python sendMXtempoJobs.py /mnt/darren/quaranta2/Cytation/2020-11-02/TaskArgs_2020-11-24.csv`  \n",
    "\n"
   ]
  },
  {
   "cell_type": "code",
   "execution_count": null,
   "metadata": {},
   "outputs": [],
   "source": []
  }
 ],
 "metadata": {
  "kernelspec": {
   "display_name": "improc",
   "language": "python",
   "name": "improc"
  },
  "language_info": {
   "codemirror_mode": {
    "name": "ipython",
    "version": 3
   },
   "file_extension": ".py",
   "mimetype": "text/x-python",
   "name": "python",
   "nbconvert_exporter": "python",
   "pygments_lexer": "ipython3",
   "version": "3.7.1"
  }
 },
 "nbformat": 4,
 "nbformat_minor": 4
}
