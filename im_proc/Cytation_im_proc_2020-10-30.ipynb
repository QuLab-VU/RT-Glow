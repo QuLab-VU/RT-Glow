{
 "cells": [
  {
   "cell_type": "markdown",
   "metadata": {},
   "source": [
    "# Quantifying cell counts from Cytation\n",
    "Applying `py-seg` to Cytation 5 data generated in HTS (VAPR) core by Clayton Wandishin.  Single 384-well plate imaged multiple times, 2 channels (red nuclei and (Sytox) green for dead cells). Need plate map of cell line(s), drugs and drug concentrations from Clayton.\n",
    "\n",
    "Steps needed to perform processing and assemble data:\n",
    "\n",
    "* Identify all image files (saved on vu1file quaranta2 share)\n",
    "* Parse file names to determine time point, channel, well, and position\n",
    "* Assemble task arguments for `py-seg` processing\n",
    "* Send jobs to RabbitMq/Celery for processing\n",
    "* Collect cell counts per time point (similar to `plate.id` from ImageXpress HTS core output)"
   ]
  },
  {
   "cell_type": "code",
   "execution_count": 1,
   "metadata": {},
   "outputs": [],
   "source": [
    "import os\n",
    "import re\n",
    "import pandas as pd\n",
    "import numpy as np\n",
    "from datetime import datetime, date"
   ]
  },
  {
   "cell_type": "code",
   "execution_count": 6,
   "metadata": {},
   "outputs": [],
   "source": [
    "TOPDIR = '/mnt/darren/quaranta2/Cytation/2020-10-31'\n",
    "\n",
    "def parseFileName(filename):\n",
    "    filename = os.path.basename(filename)\n",
    "    x = filename.split(\".\")[0]\n",
    "    well = x.split(\"_\")[0]\n",
    "    pos = x.split(\"_\")[3]\n",
    "    ch = x.split(\"_\")[4]\n",
    "    time_i = x.split(\"_\")[5]\n",
    "    out = [well,ch,pos,time_i]\n",
    "    return(out)\n",
    "\n",
    "# [x+1 if x >= 45 else x+5 for x in l]\n",
    "\n",
    "def fixWellName(well_name):\n",
    "    # function to fix well names by ensuring 3-digit length \n",
    "    # (i.e., include preceding 0 in single-digit column numbers) \n",
    "\n",
    "    if isinstance(well_name, list):\n",
    "        return([f'{wn[0]}0{wn[1]}' if len(wn) < 3 else wn for wn in well_name])\n",
    "    elif(isinstance(well_name, str)):\n",
    "        if len(well_name) < 3:\n",
    "            return(f'{well_name[0]}0{well_name[1]}')\n",
    "    else:\n",
    "        well_name\n",
    "\n",
    "def getDateTime(filepath):\n",
    "    pat = \"\\d{6}_\\d{6}\"\n",
    "\n",
    "    d = [re.search(pat, x) for x in filepath]\n",
    "    d = [x[0] for x in d]\n",
    "    d = [datetime.strptime(x, '%y%m%d_%H%M%S%f') for x in d]\n",
    "    o = [x.strftime(\"%Y-%m-%d %H:%M:%S\") for x in d]\n",
    "    return(o)\n",
    "\n",
    "def getTimeIdx(filepath):\n",
    "    pat = \"Experiment\\d{1,2}\"\n",
    "    i = [re.search(pat,x) for x in filepath]\n",
    "    i = [x[0] for x in i]\n",
    "    i = [int(x.strip(\"Experiment\")) for x in i]\n",
    "    return(i)"
   ]
  },
  {
   "cell_type": "markdown",
   "metadata": {},
   "source": [
    "#### Find all image files"
   ]
  },
  {
   "cell_type": "code",
   "execution_count": 7,
   "metadata": {},
   "outputs": [
    {
     "name": "stdout",
     "output_type": "stream",
     "text": [
      "13440 files were found.\n",
      "43 directories were found\n",
      "The file E7_02_1_1_RFP_001.tif has a complete path.\n"
     ]
    }
   ],
   "source": [
    "os.chdir(TOPDIR)\n",
    "fn = []\n",
    "dn = []\n",
    "\n",
    "for (dirpath, dirnames, filenames) in os.walk(TOPDIR):\n",
    "    fn += [os.path.join(dirpath, f) for f in filenames]\n",
    "    dn += [os.path.join(dirpath, d) for d in dirnames]\n",
    "\n",
    "# remove .DS_Store (hiddent Spotlight) files, if present\n",
    "fn = [f for f in fn if \".DS_Store\" not in f]\n",
    "\n",
    "# keep only TIFF files\n",
    "fn = [f for f in fn if \"Segmentation\" not in f]\n",
    "fn = [f for f in fn if \"csv\" not in f]\n",
    "\n",
    "\n",
    "\n",
    "print(f\"{len(fn)} files were found.\")\n",
    "print(f\"{len(dn)} directories were found\")\n",
    "\n",
    "if(os.path.isfile(fn[0])):\n",
    "    print(f\"The file {os.path.basename(fn[0])} has a complete path.\")\n",
    "else:\n",
    "    print(f\"The file {os.path.basename(fn[0])} does NOT have a complete path.\")"
   ]
  },
  {
   "cell_type": "code",
   "execution_count": 8,
   "metadata": {},
   "outputs": [
    {
     "data": {
      "text/plain": [
       "['/mnt/darren/quaranta2/Cytation/2020-10-31/201031_183840_Experiment1/201031_183840_Plate 1/B10_02_1_1_RFP_001.tif',\n",
       " '/mnt/darren/quaranta2/Cytation/2020-10-31/201031_183840_Experiment1/201031_183840_Plate 1/B10_02_1_2_RFP_001.tif',\n",
       " '/mnt/darren/quaranta2/Cytation/2020-10-31/201031_183840_Experiment1/201031_183840_Plate 1/B10_02_2_1_GFP_001.tif',\n",
       " '/mnt/darren/quaranta2/Cytation/2020-10-31/201031_183840_Experiment1/201031_183840_Plate 1/B10_02_2_2_GFP_001.tif',\n",
       " '/mnt/darren/quaranta2/Cytation/2020-10-31/201031_183840_Experiment1/201031_183840_Plate 1/B11_02_1_1_RFP_001.tif',\n",
       " '/mnt/darren/quaranta2/Cytation/2020-10-31/201031_183840_Experiment1/201031_183840_Plate 1/B11_02_1_2_RFP_001.tif']"
      ]
     },
     "execution_count": 8,
     "metadata": {},
     "output_type": "execute_result"
    }
   ],
   "source": [
    "fn.sort()\n",
    "fn[:6]\n",
    "# fn[10550:]"
   ]
  },
  {
   "cell_type": "markdown",
   "metadata": {},
   "source": [
    "#### Filename structure\n",
    "Example filename: `B10_04_1_1_RFP_001.tif`  \n",
    "\n",
    "* `B10` = well  \n",
    "* `04` = unknown  \n",
    "* `1` = channel number (`1` or `2` in these data)  \n",
    "* `1` = position number (`1` or `2` in these data)  \n",
    "* `RFP` = channel name (`RFP` or `GFP` in these data)  \n",
    "* `001` = time point index (only `001` in these data; actual time point index in enclosing directory (2 up) `Experiment[0-9]{1,2}`)  \n",
    "* `tif` = image file format (only `tif` in these data)  \n",
    "\n",
    "\n"
   ]
  },
  {
   "cell_type": "code",
   "execution_count": null,
   "metadata": {},
   "outputs": [],
   "source": []
  },
  {
   "cell_type": "code",
   "execution_count": 9,
   "metadata": {},
   "outputs": [],
   "source": [
    "file_info = pd.DataFrame([parseFileName(x) for x in fn])\n",
    "file_info.columns = ['well','ch','pos','time_i']\n",
    "file_info['file_name'] = fn"
   ]
  },
  {
   "cell_type": "code",
   "execution_count": null,
   "metadata": {},
   "outputs": [],
   "source": []
  },
  {
   "cell_type": "code",
   "execution_count": 10,
   "metadata": {},
   "outputs": [
    {
     "data": {
      "text/html": [
       "<div>\n",
       "<style scoped>\n",
       "    .dataframe tbody tr th:only-of-type {\n",
       "        vertical-align: middle;\n",
       "    }\n",
       "\n",
       "    .dataframe tbody tr th {\n",
       "        vertical-align: top;\n",
       "    }\n",
       "\n",
       "    .dataframe thead th {\n",
       "        text-align: right;\n",
       "    }\n",
       "</style>\n",
       "<table border=\"1\" class=\"dataframe\">\n",
       "  <thead>\n",
       "    <tr style=\"text-align: right;\">\n",
       "      <th></th>\n",
       "      <th>well</th>\n",
       "      <th>ch</th>\n",
       "      <th>pos</th>\n",
       "      <th>time_i</th>\n",
       "      <th>file_name</th>\n",
       "    </tr>\n",
       "  </thead>\n",
       "  <tbody>\n",
       "    <tr>\n",
       "      <th>0</th>\n",
       "      <td>B10</td>\n",
       "      <td>RFP</td>\n",
       "      <td>1</td>\n",
       "      <td>001</td>\n",
       "      <td>/mnt/darren/quaranta2/Cytation/2020-10-31/2010...</td>\n",
       "    </tr>\n",
       "    <tr>\n",
       "      <th>1</th>\n",
       "      <td>B10</td>\n",
       "      <td>RFP</td>\n",
       "      <td>2</td>\n",
       "      <td>001</td>\n",
       "      <td>/mnt/darren/quaranta2/Cytation/2020-10-31/2010...</td>\n",
       "    </tr>\n",
       "    <tr>\n",
       "      <th>2</th>\n",
       "      <td>B10</td>\n",
       "      <td>GFP</td>\n",
       "      <td>1</td>\n",
       "      <td>001</td>\n",
       "      <td>/mnt/darren/quaranta2/Cytation/2020-10-31/2010...</td>\n",
       "    </tr>\n",
       "    <tr>\n",
       "      <th>3</th>\n",
       "      <td>B10</td>\n",
       "      <td>GFP</td>\n",
       "      <td>2</td>\n",
       "      <td>001</td>\n",
       "      <td>/mnt/darren/quaranta2/Cytation/2020-10-31/2010...</td>\n",
       "    </tr>\n",
       "    <tr>\n",
       "      <th>4</th>\n",
       "      <td>B11</td>\n",
       "      <td>RFP</td>\n",
       "      <td>1</td>\n",
       "      <td>001</td>\n",
       "      <td>/mnt/darren/quaranta2/Cytation/2020-10-31/2010...</td>\n",
       "    </tr>\n",
       "  </tbody>\n",
       "</table>\n",
       "</div>"
      ],
      "text/plain": [
       "  well   ch pos time_i                                          file_name\n",
       "0  B10  RFP   1    001  /mnt/darren/quaranta2/Cytation/2020-10-31/2010...\n",
       "1  B10  RFP   2    001  /mnt/darren/quaranta2/Cytation/2020-10-31/2010...\n",
       "2  B10  GFP   1    001  /mnt/darren/quaranta2/Cytation/2020-10-31/2010...\n",
       "3  B10  GFP   2    001  /mnt/darren/quaranta2/Cytation/2020-10-31/2010...\n",
       "4  B11  RFP   1    001  /mnt/darren/quaranta2/Cytation/2020-10-31/2010..."
      ]
     },
     "execution_count": 10,
     "metadata": {},
     "output_type": "execute_result"
    }
   ],
   "source": [
    "file_info.head()"
   ]
  },
  {
   "cell_type": "code",
   "execution_count": 11,
   "metadata": {},
   "outputs": [],
   "source": [
    "red = file_info.loc[file_info['ch']=='RFP','file_name']\n",
    "red = red.reset_index(drop=True)\n",
    "green = file_info.loc[file_info['ch']=='GFP','file_name']\n",
    "green = green.reset_index(drop=True)"
   ]
  },
  {
   "cell_type": "code",
   "execution_count": 12,
   "metadata": {},
   "outputs": [],
   "source": [
    "wells = file_info.loc[file_info['ch']=='RFP','well']\n",
    "wells = wells.reset_index(drop=True)\n",
    "wells = fixWellName(wells.tolist())\n",
    "wells = pd.Series(wells)"
   ]
  },
  {
   "cell_type": "code",
   "execution_count": 13,
   "metadata": {},
   "outputs": [],
   "source": [
    "temp = pd.DataFrame({'image_time': getDateTime(file_info.loc[file_info['ch']=='RFP','file_name']),\n",
    "                     'time_i': getTimeIdx(file_info.loc[file_info['ch']=='RFP','file_name'])})"
   ]
  },
  {
   "cell_type": "code",
   "execution_count": 14,
   "metadata": {},
   "outputs": [],
   "source": [
    "taskargs = pd.DataFrame({\n",
    "                        'ch2_im_path': green,\n",
    "                        'nuc_im_path': red,\n",
    "                        'overwrite': 'TRUE',\n",
    "                        'plate_id': temp['time_i'],\n",
    "                        'regprops': 'FALSE',\n",
    "                        'save_path': os.path.join(TOPDIR,'Segmentation'),\n",
    "                        'well': wells\n",
    "})"
   ]
  },
  {
   "cell_type": "code",
   "execution_count": 15,
   "metadata": {},
   "outputs": [
    {
     "data": {
      "text/html": [
       "<div>\n",
       "<style scoped>\n",
       "    .dataframe tbody tr th:only-of-type {\n",
       "        vertical-align: middle;\n",
       "    }\n",
       "\n",
       "    .dataframe tbody tr th {\n",
       "        vertical-align: top;\n",
       "    }\n",
       "\n",
       "    .dataframe thead th {\n",
       "        text-align: right;\n",
       "    }\n",
       "</style>\n",
       "<table border=\"1\" class=\"dataframe\">\n",
       "  <thead>\n",
       "    <tr style=\"text-align: right;\">\n",
       "      <th></th>\n",
       "      <th>ch2_im_path</th>\n",
       "      <th>nuc_im_path</th>\n",
       "      <th>overwrite</th>\n",
       "      <th>plate_id</th>\n",
       "      <th>regprops</th>\n",
       "      <th>save_path</th>\n",
       "      <th>well</th>\n",
       "    </tr>\n",
       "  </thead>\n",
       "  <tbody>\n",
       "    <tr>\n",
       "      <th>0</th>\n",
       "      <td>/mnt/darren/quaranta2/Cytation/2020-10-31/2010...</td>\n",
       "      <td>/mnt/darren/quaranta2/Cytation/2020-10-31/2010...</td>\n",
       "      <td>TRUE</td>\n",
       "      <td>1</td>\n",
       "      <td>FALSE</td>\n",
       "      <td>/mnt/darren/quaranta2/Cytation/2020-10-31/Segm...</td>\n",
       "      <td>B10</td>\n",
       "    </tr>\n",
       "    <tr>\n",
       "      <th>1</th>\n",
       "      <td>/mnt/darren/quaranta2/Cytation/2020-10-31/2010...</td>\n",
       "      <td>/mnt/darren/quaranta2/Cytation/2020-10-31/2010...</td>\n",
       "      <td>TRUE</td>\n",
       "      <td>1</td>\n",
       "      <td>FALSE</td>\n",
       "      <td>/mnt/darren/quaranta2/Cytation/2020-10-31/Segm...</td>\n",
       "      <td>B10</td>\n",
       "    </tr>\n",
       "    <tr>\n",
       "      <th>2</th>\n",
       "      <td>/mnt/darren/quaranta2/Cytation/2020-10-31/2010...</td>\n",
       "      <td>/mnt/darren/quaranta2/Cytation/2020-10-31/2010...</td>\n",
       "      <td>TRUE</td>\n",
       "      <td>1</td>\n",
       "      <td>FALSE</td>\n",
       "      <td>/mnt/darren/quaranta2/Cytation/2020-10-31/Segm...</td>\n",
       "      <td>B11</td>\n",
       "    </tr>\n",
       "    <tr>\n",
       "      <th>3</th>\n",
       "      <td>/mnt/darren/quaranta2/Cytation/2020-10-31/2010...</td>\n",
       "      <td>/mnt/darren/quaranta2/Cytation/2020-10-31/2010...</td>\n",
       "      <td>TRUE</td>\n",
       "      <td>1</td>\n",
       "      <td>FALSE</td>\n",
       "      <td>/mnt/darren/quaranta2/Cytation/2020-10-31/Segm...</td>\n",
       "      <td>B11</td>\n",
       "    </tr>\n",
       "    <tr>\n",
       "      <th>4</th>\n",
       "      <td>/mnt/darren/quaranta2/Cytation/2020-10-31/2010...</td>\n",
       "      <td>/mnt/darren/quaranta2/Cytation/2020-10-31/2010...</td>\n",
       "      <td>TRUE</td>\n",
       "      <td>1</td>\n",
       "      <td>FALSE</td>\n",
       "      <td>/mnt/darren/quaranta2/Cytation/2020-10-31/Segm...</td>\n",
       "      <td>B12</td>\n",
       "    </tr>\n",
       "  </tbody>\n",
       "</table>\n",
       "</div>"
      ],
      "text/plain": [
       "                                         ch2_im_path  \\\n",
       "0  /mnt/darren/quaranta2/Cytation/2020-10-31/2010...   \n",
       "1  /mnt/darren/quaranta2/Cytation/2020-10-31/2010...   \n",
       "2  /mnt/darren/quaranta2/Cytation/2020-10-31/2010...   \n",
       "3  /mnt/darren/quaranta2/Cytation/2020-10-31/2010...   \n",
       "4  /mnt/darren/quaranta2/Cytation/2020-10-31/2010...   \n",
       "\n",
       "                                         nuc_im_path overwrite  plate_id  \\\n",
       "0  /mnt/darren/quaranta2/Cytation/2020-10-31/2010...      TRUE         1   \n",
       "1  /mnt/darren/quaranta2/Cytation/2020-10-31/2010...      TRUE         1   \n",
       "2  /mnt/darren/quaranta2/Cytation/2020-10-31/2010...      TRUE         1   \n",
       "3  /mnt/darren/quaranta2/Cytation/2020-10-31/2010...      TRUE         1   \n",
       "4  /mnt/darren/quaranta2/Cytation/2020-10-31/2010...      TRUE         1   \n",
       "\n",
       "  regprops                                          save_path well  \n",
       "0    FALSE  /mnt/darren/quaranta2/Cytation/2020-10-31/Segm...  B10  \n",
       "1    FALSE  /mnt/darren/quaranta2/Cytation/2020-10-31/Segm...  B10  \n",
       "2    FALSE  /mnt/darren/quaranta2/Cytation/2020-10-31/Segm...  B11  \n",
       "3    FALSE  /mnt/darren/quaranta2/Cytation/2020-10-31/Segm...  B11  \n",
       "4    FALSE  /mnt/darren/quaranta2/Cytation/2020-10-31/Segm...  B12  "
      ]
     },
     "execution_count": 15,
     "metadata": {},
     "output_type": "execute_result"
    }
   ],
   "source": [
    "taskargs.head()"
   ]
  },
  {
   "cell_type": "markdown",
   "metadata": {},
   "source": [
    "#### Save Task Arguments to file\n",
    "(Will not overwrite if file exists; must delete previous to write new file.)"
   ]
  },
  {
   "cell_type": "code",
   "execution_count": 16,
   "metadata": {},
   "outputs": [
    {
     "data": {
      "text/plain": [
       "(6720, 7)"
      ]
     },
     "execution_count": 16,
     "metadata": {},
     "output_type": "execute_result"
    }
   ],
   "source": [
    "today = date.today()\n",
    "taskargs.shape"
   ]
  },
  {
   "cell_type": "code",
   "execution_count": 17,
   "metadata": {},
   "outputs": [
    {
     "name": "stdout",
     "output_type": "stream",
     "text": [
      "Saving task file as /mnt/darren/quaranta2/Cytation/2020-10-31/TaskArgs_2020-11-02.csv\n"
     ]
    }
   ],
   "source": [
    "argfilepath = os.path.join(TOPDIR,f'TaskArgs_{today}.csv')\n",
    "if not os.path.isfile(argfilepath):\n",
    "    taskargs.to_csv(argfilepath, index=False)\n",
    "    print(f'Saving task file as {argfilepath}')"
   ]
  },
  {
   "cell_type": "markdown",
   "metadata": {},
   "source": [
    "#### Examine some processing output"
   ]
  },
  {
   "cell_type": "code",
   "execution_count": 18,
   "metadata": {},
   "outputs": [],
   "source": [
    "import sys\n",
    "sys.path.append(r'/home/darren/git-repos/Segmentation-other/py-seg')"
   ]
  },
  {
   "cell_type": "code",
   "execution_count": 19,
   "metadata": {},
   "outputs": [],
   "source": [
    "from MXtasksTempo import processIm\n",
    "import cv2\n",
    "import numpy as np\n",
    "from pylab import imshow, gray"
   ]
  },
  {
   "cell_type": "code",
   "execution_count": 20,
   "metadata": {},
   "outputs": [],
   "source": [
    "processIm(taskargs.loc[200].to_list())"
   ]
  },
  {
   "cell_type": "markdown",
   "metadata": {},
   "source": [
    "Output worked ok"
   ]
  },
  {
   "cell_type": "markdown",
   "metadata": {},
   "source": [
    "### Set up celery workers and send jobs to RabbitMQ\n",
    "This is done via `ssh` to `tempo` in the `improc` Conda environment. Must also be in `~/git-repos/Segmentation-other/py-seg/`  \n",
    "\n",
    "Must specify maximum concurrency when calling Celery worker.  \n",
    "\n",
    "Then execute:  \n",
    "`screen`\n",
    "`celery -A MXtasksTempo worker --concurrency=120`  \n",
    "<ctrl-A,D>  \n",
    "\n",
    "\n",
    "`python sendMXtempoJobs.py /mnt/darren/quaranta2/Cytation/2020-10-31/TaskArgs_2020-11-02.csv`  \n",
    "\n"
   ]
  },
  {
   "cell_type": "code",
   "execution_count": 21,
   "metadata": {},
   "outputs": [],
   "source": [
    "SEGDIR = os.path.join(TOPDIR,\"Segmentation\")"
   ]
  },
  {
   "cell_type": "code",
   "execution_count": 22,
   "metadata": {},
   "outputs": [],
   "source": [
    "ccfn = []\n",
    "ccdn = []\n",
    "\n",
    "for (dirpath, dirnames, filenames) in os.walk(SEGDIR):\n",
    "    ccfn += [os.path.join(dirpath, f) for f in filenames]\n",
    "    ccdn += [os.path.join(dirpath, d) for d in dirnames]\n",
    "\n",
    "# remove .DS_Store (hiddent Spotlight) files, if present\n",
    "ccfn = [f for f in ccfn if \".DS_Store\" not in f]\n",
    "ccfn = [f for f in ccfn if \"cellcount.csv\" in f]\n",
    "ccdn = [d for d in ccdn if \".DS_Store\" not in d]\n",
    "ccdn.sort()\n",
    "\n"
   ]
  },
  {
   "cell_type": "code",
   "execution_count": 23,
   "metadata": {},
   "outputs": [],
   "source": [
    "d = pd.DataFrame()\n",
    "for f in ccfn:\n",
    "    d = d.append(pd.read_csv(f),ignore_index=True)\n",
    "\n"
   ]
  },
  {
   "cell_type": "code",
   "execution_count": 24,
   "metadata": {},
   "outputs": [
    {
     "data": {
      "text/html": [
       "<div>\n",
       "<style scoped>\n",
       "    .dataframe tbody tr th:only-of-type {\n",
       "        vertical-align: middle;\n",
       "    }\n",
       "\n",
       "    .dataframe tbody tr th {\n",
       "        vertical-align: top;\n",
       "    }\n",
       "\n",
       "    .dataframe thead th {\n",
       "        text-align: right;\n",
       "    }\n",
       "</style>\n",
       "<table border=\"1\" class=\"dataframe\">\n",
       "  <thead>\n",
       "    <tr style=\"text-align: right;\">\n",
       "      <th></th>\n",
       "      <th>file_name</th>\n",
       "      <th>cell_count</th>\n",
       "      <th>file_name_ch2</th>\n",
       "      <th>ch2_pos</th>\n",
       "      <th>plate_id</th>\n",
       "      <th>well</th>\n",
       "    </tr>\n",
       "  </thead>\n",
       "  <tbody>\n",
       "    <tr>\n",
       "      <th>0</th>\n",
       "      <td>B13_02_1_2_RFP_001.tif</td>\n",
       "      <td>22</td>\n",
       "      <td>B13_02_2_2_GFP_001.tif</td>\n",
       "      <td>9</td>\n",
       "      <td>2</td>\n",
       "      <td>B13</td>\n",
       "    </tr>\n",
       "    <tr>\n",
       "      <th>1</th>\n",
       "      <td>H15_02_1_2_RFP_001.tif</td>\n",
       "      <td>16</td>\n",
       "      <td>H15_02_2_2_GFP_001.tif</td>\n",
       "      <td>8</td>\n",
       "      <td>2</td>\n",
       "      <td>H15</td>\n",
       "    </tr>\n",
       "    <tr>\n",
       "      <th>2</th>\n",
       "      <td>C15_02_1_2_RFP_001.tif</td>\n",
       "      <td>22</td>\n",
       "      <td>C15_02_2_2_GFP_001.tif</td>\n",
       "      <td>7</td>\n",
       "      <td>2</td>\n",
       "      <td>C15</td>\n",
       "    </tr>\n",
       "    <tr>\n",
       "      <th>3</th>\n",
       "      <td>K16_02_1_2_RFP_001.tif</td>\n",
       "      <td>26</td>\n",
       "      <td>K16_02_2_2_GFP_001.tif</td>\n",
       "      <td>11</td>\n",
       "      <td>2</td>\n",
       "      <td>K16</td>\n",
       "    </tr>\n",
       "    <tr>\n",
       "      <th>4</th>\n",
       "      <td>F21_02_1_2_RFP_001.tif</td>\n",
       "      <td>13</td>\n",
       "      <td>F21_02_2_2_GFP_001.tif</td>\n",
       "      <td>10</td>\n",
       "      <td>2</td>\n",
       "      <td>F21</td>\n",
       "    </tr>\n",
       "  </tbody>\n",
       "</table>\n",
       "</div>"
      ],
      "text/plain": [
       "                file_name  cell_count           file_name_ch2  ch2_pos  \\\n",
       "0  B13_02_1_2_RFP_001.tif          22  B13_02_2_2_GFP_001.tif        9   \n",
       "1  H15_02_1_2_RFP_001.tif          16  H15_02_2_2_GFP_001.tif        8   \n",
       "2  C15_02_1_2_RFP_001.tif          22  C15_02_2_2_GFP_001.tif        7   \n",
       "3  K16_02_1_2_RFP_001.tif          26  K16_02_2_2_GFP_001.tif       11   \n",
       "4  F21_02_1_2_RFP_001.tif          13  F21_02_2_2_GFP_001.tif       10   \n",
       "\n",
       "   plate_id well  \n",
       "0         2  B13  \n",
       "1         2  H15  \n",
       "2         2  C15  \n",
       "3         2  K16  \n",
       "4         2  F21  "
      ]
     },
     "execution_count": 24,
     "metadata": {},
     "output_type": "execute_result"
    }
   ],
   "source": [
    "d.head()"
   ]
  },
  {
   "cell_type": "code",
   "execution_count": 42,
   "metadata": {},
   "outputs": [],
   "source": [
    "d.sort_values(by=['file_name','plate_id'], inplace=True, ignore_index=True)"
   ]
  },
  {
   "cell_type": "code",
   "execution_count": 44,
   "metadata": {},
   "outputs": [
    {
     "data": {
      "text/html": [
       "<div>\n",
       "<style scoped>\n",
       "    .dataframe tbody tr th:only-of-type {\n",
       "        vertical-align: middle;\n",
       "    }\n",
       "\n",
       "    .dataframe tbody tr th {\n",
       "        vertical-align: top;\n",
       "    }\n",
       "\n",
       "    .dataframe thead th {\n",
       "        text-align: right;\n",
       "    }\n",
       "</style>\n",
       "<table border=\"1\" class=\"dataframe\">\n",
       "  <thead>\n",
       "    <tr style=\"text-align: right;\">\n",
       "      <th></th>\n",
       "      <th>file_name</th>\n",
       "      <th>cell_count</th>\n",
       "      <th>file_name_ch2</th>\n",
       "      <th>ch2_pos</th>\n",
       "      <th>plate_id</th>\n",
       "      <th>well</th>\n",
       "    </tr>\n",
       "  </thead>\n",
       "  <tbody>\n",
       "    <tr>\n",
       "      <th>0</th>\n",
       "      <td>B10_02_1_1_RFP_001.tif</td>\n",
       "      <td>60</td>\n",
       "      <td>B10_02_2_1_GFP_001.tif</td>\n",
       "      <td>28</td>\n",
       "      <td>4</td>\n",
       "      <td>B10</td>\n",
       "    </tr>\n",
       "    <tr>\n",
       "      <th>1</th>\n",
       "      <td>B10_02_1_1_RFP_001.tif</td>\n",
       "      <td>29</td>\n",
       "      <td>B10_02_2_1_GFP_001.tif</td>\n",
       "      <td>1</td>\n",
       "      <td>9</td>\n",
       "      <td>B10</td>\n",
       "    </tr>\n",
       "    <tr>\n",
       "      <th>2</th>\n",
       "      <td>B10_02_1_1_RFP_001.tif</td>\n",
       "      <td>66</td>\n",
       "      <td>B10_02_2_1_GFP_001.tif</td>\n",
       "      <td>42</td>\n",
       "      <td>10</td>\n",
       "      <td>B10</td>\n",
       "    </tr>\n",
       "    <tr>\n",
       "      <th>3</th>\n",
       "      <td>B10_02_1_1_RFP_001.tif</td>\n",
       "      <td>25</td>\n",
       "      <td>B10_02_2_1_GFP_001.tif</td>\n",
       "      <td>1</td>\n",
       "      <td>11</td>\n",
       "      <td>B10</td>\n",
       "    </tr>\n",
       "    <tr>\n",
       "      <th>4</th>\n",
       "      <td>B10_02_1_1_RFP_001.tif</td>\n",
       "      <td>74</td>\n",
       "      <td>B10_02_2_1_GFP_001.tif</td>\n",
       "      <td>40</td>\n",
       "      <td>12</td>\n",
       "      <td>B10</td>\n",
       "    </tr>\n",
       "    <tr>\n",
       "      <th>5</th>\n",
       "      <td>B10_02_1_1_RFP_001.tif</td>\n",
       "      <td>26</td>\n",
       "      <td>B10_02_2_1_GFP_001.tif</td>\n",
       "      <td>1</td>\n",
       "      <td>13</td>\n",
       "      <td>B10</td>\n",
       "    </tr>\n",
       "    <tr>\n",
       "      <th>6</th>\n",
       "      <td>B10_02_1_1_RFP_001.tif</td>\n",
       "      <td>71</td>\n",
       "      <td>B10_02_2_1_GFP_001.tif</td>\n",
       "      <td>49</td>\n",
       "      <td>14</td>\n",
       "      <td>B10</td>\n",
       "    </tr>\n",
       "    <tr>\n",
       "      <th>7</th>\n",
       "      <td>B10_02_1_2_RFP_001.tif</td>\n",
       "      <td>8</td>\n",
       "      <td>B10_02_2_2_GFP_001.tif</td>\n",
       "      <td>0</td>\n",
       "      <td>1</td>\n",
       "      <td>B10</td>\n",
       "    </tr>\n",
       "    <tr>\n",
       "      <th>8</th>\n",
       "      <td>B10_02_1_2_RFP_001.tif</td>\n",
       "      <td>31</td>\n",
       "      <td>B10_02_2_2_GFP_001.tif</td>\n",
       "      <td>19</td>\n",
       "      <td>2</td>\n",
       "      <td>B10</td>\n",
       "    </tr>\n",
       "    <tr>\n",
       "      <th>9</th>\n",
       "      <td>B10_02_1_2_RFP_001.tif</td>\n",
       "      <td>4</td>\n",
       "      <td>B10_02_2_2_GFP_001.tif</td>\n",
       "      <td>0</td>\n",
       "      <td>3</td>\n",
       "      <td>B10</td>\n",
       "    </tr>\n",
       "    <tr>\n",
       "      <th>10</th>\n",
       "      <td>B10_02_1_2_RFP_001.tif</td>\n",
       "      <td>34</td>\n",
       "      <td>B10_02_2_2_GFP_001.tif</td>\n",
       "      <td>14</td>\n",
       "      <td>4</td>\n",
       "      <td>B10</td>\n",
       "    </tr>\n",
       "    <tr>\n",
       "      <th>11</th>\n",
       "      <td>B10_02_1_2_RFP_001.tif</td>\n",
       "      <td>26</td>\n",
       "      <td>B10_02_2_2_GFP_001.tif</td>\n",
       "      <td>14</td>\n",
       "      <td>6</td>\n",
       "      <td>B10</td>\n",
       "    </tr>\n",
       "    <tr>\n",
       "      <th>12</th>\n",
       "      <td>B10_02_1_2_RFP_001.tif</td>\n",
       "      <td>8</td>\n",
       "      <td>B10_02_2_2_GFP_001.tif</td>\n",
       "      <td>1</td>\n",
       "      <td>11</td>\n",
       "      <td>B10</td>\n",
       "    </tr>\n",
       "    <tr>\n",
       "      <th>13</th>\n",
       "      <td>B10_02_1_2_RFP_001.tif</td>\n",
       "      <td>36</td>\n",
       "      <td>B10_02_2_2_GFP_001.tif</td>\n",
       "      <td>18</td>\n",
       "      <td>12</td>\n",
       "      <td>B10</td>\n",
       "    </tr>\n",
       "    <tr>\n",
       "      <th>14</th>\n",
       "      <td>B10_02_1_2_RFP_001.tif</td>\n",
       "      <td>8</td>\n",
       "      <td>B10_02_2_2_GFP_001.tif</td>\n",
       "      <td>1</td>\n",
       "      <td>13</td>\n",
       "      <td>B10</td>\n",
       "    </tr>\n",
       "    <tr>\n",
       "      <th>15</th>\n",
       "      <td>B10_02_1_2_RFP_001.tif</td>\n",
       "      <td>35</td>\n",
       "      <td>B10_02_2_2_GFP_001.tif</td>\n",
       "      <td>24</td>\n",
       "      <td>14</td>\n",
       "      <td>B10</td>\n",
       "    </tr>\n",
       "    <tr>\n",
       "      <th>16</th>\n",
       "      <td>B11_02_1_1_RFP_001.tif</td>\n",
       "      <td>23</td>\n",
       "      <td>B11_02_2_1_GFP_001.tif</td>\n",
       "      <td>8</td>\n",
       "      <td>4</td>\n",
       "      <td>B11</td>\n",
       "    </tr>\n",
       "    <tr>\n",
       "      <th>17</th>\n",
       "      <td>B11_02_1_1_RFP_001.tif</td>\n",
       "      <td>25</td>\n",
       "      <td>B11_02_2_1_GFP_001.tif</td>\n",
       "      <td>9</td>\n",
       "      <td>8</td>\n",
       "      <td>B11</td>\n",
       "    </tr>\n",
       "    <tr>\n",
       "      <th>18</th>\n",
       "      <td>B11_02_1_1_RFP_001.tif</td>\n",
       "      <td>13</td>\n",
       "      <td>B11_02_2_1_GFP_001.tif</td>\n",
       "      <td>0</td>\n",
       "      <td>11</td>\n",
       "      <td>B11</td>\n",
       "    </tr>\n",
       "    <tr>\n",
       "      <th>19</th>\n",
       "      <td>B11_02_1_2_RFP_001.tif</td>\n",
       "      <td>18</td>\n",
       "      <td>B11_02_2_2_GFP_001.tif</td>\n",
       "      <td>0</td>\n",
       "      <td>1</td>\n",
       "      <td>B11</td>\n",
       "    </tr>\n",
       "  </tbody>\n",
       "</table>\n",
       "</div>"
      ],
      "text/plain": [
       "                 file_name  cell_count           file_name_ch2  ch2_pos  \\\n",
       "0   B10_02_1_1_RFP_001.tif          60  B10_02_2_1_GFP_001.tif       28   \n",
       "1   B10_02_1_1_RFP_001.tif          29  B10_02_2_1_GFP_001.tif        1   \n",
       "2   B10_02_1_1_RFP_001.tif          66  B10_02_2_1_GFP_001.tif       42   \n",
       "3   B10_02_1_1_RFP_001.tif          25  B10_02_2_1_GFP_001.tif        1   \n",
       "4   B10_02_1_1_RFP_001.tif          74  B10_02_2_1_GFP_001.tif       40   \n",
       "5   B10_02_1_1_RFP_001.tif          26  B10_02_2_1_GFP_001.tif        1   \n",
       "6   B10_02_1_1_RFP_001.tif          71  B10_02_2_1_GFP_001.tif       49   \n",
       "7   B10_02_1_2_RFP_001.tif           8  B10_02_2_2_GFP_001.tif        0   \n",
       "8   B10_02_1_2_RFP_001.tif          31  B10_02_2_2_GFP_001.tif       19   \n",
       "9   B10_02_1_2_RFP_001.tif           4  B10_02_2_2_GFP_001.tif        0   \n",
       "10  B10_02_1_2_RFP_001.tif          34  B10_02_2_2_GFP_001.tif       14   \n",
       "11  B10_02_1_2_RFP_001.tif          26  B10_02_2_2_GFP_001.tif       14   \n",
       "12  B10_02_1_2_RFP_001.tif           8  B10_02_2_2_GFP_001.tif        1   \n",
       "13  B10_02_1_2_RFP_001.tif          36  B10_02_2_2_GFP_001.tif       18   \n",
       "14  B10_02_1_2_RFP_001.tif           8  B10_02_2_2_GFP_001.tif        1   \n",
       "15  B10_02_1_2_RFP_001.tif          35  B10_02_2_2_GFP_001.tif       24   \n",
       "16  B11_02_1_1_RFP_001.tif          23  B11_02_2_1_GFP_001.tif        8   \n",
       "17  B11_02_1_1_RFP_001.tif          25  B11_02_2_1_GFP_001.tif        9   \n",
       "18  B11_02_1_1_RFP_001.tif          13  B11_02_2_1_GFP_001.tif        0   \n",
       "19  B11_02_1_2_RFP_001.tif          18  B11_02_2_2_GFP_001.tif        0   \n",
       "\n",
       "    plate_id well  \n",
       "0          4  B10  \n",
       "1          9  B10  \n",
       "2         10  B10  \n",
       "3         11  B10  \n",
       "4         12  B10  \n",
       "5         13  B10  \n",
       "6         14  B10  \n",
       "7          1  B10  \n",
       "8          2  B10  \n",
       "9          3  B10  \n",
       "10         4  B10  \n",
       "11         6  B10  \n",
       "12        11  B10  \n",
       "13        12  B10  \n",
       "14        13  B10  \n",
       "15        14  B10  \n",
       "16         4  B11  \n",
       "17         8  B11  \n",
       "18        11  B11  \n",
       "19         1  B11  "
      ]
     },
     "execution_count": 44,
     "metadata": {},
     "output_type": "execute_result"
    }
   ],
   "source": [
    "d.head(20)"
   ]
  },
  {
   "cell_type": "markdown",
   "metadata": {},
   "source": [
    "Add back directory name to enable parsing of image acquisition time"
   ]
  },
  {
   "cell_type": "code",
   "execution_count": 27,
   "metadata": {},
   "outputs": [],
   "source": [
    "temp = taskargs"
   ]
  },
  {
   "cell_type": "code",
   "execution_count": 28,
   "metadata": {},
   "outputs": [],
   "source": [
    "count_fn = os.path.join(TOPDIR,\"20201031_Cytation_data.csv\")"
   ]
  },
  {
   "cell_type": "markdown",
   "metadata": {},
   "source": [
    "Write file only if it doesn't exist already"
   ]
  },
  {
   "cell_type": "code",
   "execution_count": 29,
   "metadata": {},
   "outputs": [],
   "source": [
    "if not os.path.isfile(count_fn):\n",
    "    d.to_csv(count_fn, index=False)"
   ]
  },
  {
   "cell_type": "code",
   "execution_count": 30,
   "metadata": {},
   "outputs": [
    {
     "data": {
      "text/plain": [
       "(3334, 6)"
      ]
     },
     "execution_count": 30,
     "metadata": {},
     "output_type": "execute_result"
    }
   ],
   "source": [
    "d.shape"
   ]
  },
  {
   "cell_type": "code",
   "execution_count": 31,
   "metadata": {},
   "outputs": [
    {
     "data": {
      "text/html": [
       "<div>\n",
       "<style scoped>\n",
       "    .dataframe tbody tr th:only-of-type {\n",
       "        vertical-align: middle;\n",
       "    }\n",
       "\n",
       "    .dataframe tbody tr th {\n",
       "        vertical-align: top;\n",
       "    }\n",
       "\n",
       "    .dataframe thead th {\n",
       "        text-align: right;\n",
       "    }\n",
       "</style>\n",
       "<table border=\"1\" class=\"dataframe\">\n",
       "  <thead>\n",
       "    <tr style=\"text-align: right;\">\n",
       "      <th></th>\n",
       "      <th>file_name</th>\n",
       "      <th>cell_count</th>\n",
       "      <th>file_name_ch2</th>\n",
       "      <th>ch2_pos</th>\n",
       "      <th>plate_id</th>\n",
       "      <th>well</th>\n",
       "    </tr>\n",
       "  </thead>\n",
       "  <tbody>\n",
       "    <tr>\n",
       "      <th>0</th>\n",
       "      <td>B2_02_1_2_RFP_001.tif</td>\n",
       "      <td>3</td>\n",
       "      <td>B2_02_2_2_GFP_001.tif</td>\n",
       "      <td>0</td>\n",
       "      <td>1</td>\n",
       "      <td>B02</td>\n",
       "    </tr>\n",
       "    <tr>\n",
       "      <th>1</th>\n",
       "      <td>B3_02_1_2_RFP_001.tif</td>\n",
       "      <td>8</td>\n",
       "      <td>B3_02_2_2_GFP_001.tif</td>\n",
       "      <td>2</td>\n",
       "      <td>1</td>\n",
       "      <td>B03</td>\n",
       "    </tr>\n",
       "    <tr>\n",
       "      <th>2</th>\n",
       "      <td>B4_02_1_2_RFP_001.tif</td>\n",
       "      <td>15</td>\n",
       "      <td>B4_02_2_2_GFP_001.tif</td>\n",
       "      <td>0</td>\n",
       "      <td>1</td>\n",
       "      <td>B04</td>\n",
       "    </tr>\n",
       "    <tr>\n",
       "      <th>3</th>\n",
       "      <td>B5_02_1_2_RFP_001.tif</td>\n",
       "      <td>3</td>\n",
       "      <td>B5_02_2_2_GFP_001.tif</td>\n",
       "      <td>2</td>\n",
       "      <td>1</td>\n",
       "      <td>B05</td>\n",
       "    </tr>\n",
       "    <tr>\n",
       "      <th>4</th>\n",
       "      <td>B6_02_1_2_RFP_001.tif</td>\n",
       "      <td>8</td>\n",
       "      <td>B6_02_2_2_GFP_001.tif</td>\n",
       "      <td>2</td>\n",
       "      <td>1</td>\n",
       "      <td>B06</td>\n",
       "    </tr>\n",
       "  </tbody>\n",
       "</table>\n",
       "</div>"
      ],
      "text/plain": [
       "               file_name  cell_count          file_name_ch2  ch2_pos  \\\n",
       "0  B2_02_1_2_RFP_001.tif           3  B2_02_2_2_GFP_001.tif        0   \n",
       "1  B3_02_1_2_RFP_001.tif           8  B3_02_2_2_GFP_001.tif        2   \n",
       "2  B4_02_1_2_RFP_001.tif          15  B4_02_2_2_GFP_001.tif        0   \n",
       "3  B5_02_1_2_RFP_001.tif           3  B5_02_2_2_GFP_001.tif        2   \n",
       "4  B6_02_1_2_RFP_001.tif           8  B6_02_2_2_GFP_001.tif        2   \n",
       "\n",
       "   plate_id well  \n",
       "0         1  B02  \n",
       "1         1  B03  \n",
       "2         1  B04  \n",
       "3         1  B05  \n",
       "4         1  B06  "
      ]
     },
     "execution_count": 31,
     "metadata": {},
     "output_type": "execute_result"
    }
   ],
   "source": [
    "d.head()"
   ]
  },
  {
   "cell_type": "code",
   "execution_count": 32,
   "metadata": {},
   "outputs": [],
   "source": [
    "taskargs.sort_values(by=['plate_id','well'], inplace=True, ignore_index=True)"
   ]
  },
  {
   "cell_type": "code",
   "execution_count": 33,
   "metadata": {},
   "outputs": [
    {
     "data": {
      "text/html": [
       "<div>\n",
       "<style scoped>\n",
       "    .dataframe tbody tr th:only-of-type {\n",
       "        vertical-align: middle;\n",
       "    }\n",
       "\n",
       "    .dataframe tbody tr th {\n",
       "        vertical-align: top;\n",
       "    }\n",
       "\n",
       "    .dataframe thead th {\n",
       "        text-align: right;\n",
       "    }\n",
       "</style>\n",
       "<table border=\"1\" class=\"dataframe\">\n",
       "  <thead>\n",
       "    <tr style=\"text-align: right;\">\n",
       "      <th></th>\n",
       "      <th>ch2_im_path</th>\n",
       "      <th>nuc_im_path</th>\n",
       "      <th>overwrite</th>\n",
       "      <th>plate_id</th>\n",
       "      <th>regprops</th>\n",
       "      <th>save_path</th>\n",
       "      <th>well</th>\n",
       "    </tr>\n",
       "  </thead>\n",
       "  <tbody>\n",
       "    <tr>\n",
       "      <th>0</th>\n",
       "      <td>/mnt/darren/quaranta2/Cytation/2020-10-31/2010...</td>\n",
       "      <td>/mnt/darren/quaranta2/Cytation/2020-10-31/2010...</td>\n",
       "      <td>TRUE</td>\n",
       "      <td>1</td>\n",
       "      <td>FALSE</td>\n",
       "      <td>/mnt/darren/quaranta2/Cytation/2020-10-31/Segm...</td>\n",
       "      <td>B02</td>\n",
       "    </tr>\n",
       "    <tr>\n",
       "      <th>1</th>\n",
       "      <td>/mnt/darren/quaranta2/Cytation/2020-10-31/2010...</td>\n",
       "      <td>/mnt/darren/quaranta2/Cytation/2020-10-31/2010...</td>\n",
       "      <td>TRUE</td>\n",
       "      <td>1</td>\n",
       "      <td>FALSE</td>\n",
       "      <td>/mnt/darren/quaranta2/Cytation/2020-10-31/Segm...</td>\n",
       "      <td>B02</td>\n",
       "    </tr>\n",
       "    <tr>\n",
       "      <th>2</th>\n",
       "      <td>/mnt/darren/quaranta2/Cytation/2020-10-31/2010...</td>\n",
       "      <td>/mnt/darren/quaranta2/Cytation/2020-10-31/2010...</td>\n",
       "      <td>TRUE</td>\n",
       "      <td>1</td>\n",
       "      <td>FALSE</td>\n",
       "      <td>/mnt/darren/quaranta2/Cytation/2020-10-31/Segm...</td>\n",
       "      <td>B03</td>\n",
       "    </tr>\n",
       "    <tr>\n",
       "      <th>3</th>\n",
       "      <td>/mnt/darren/quaranta2/Cytation/2020-10-31/2010...</td>\n",
       "      <td>/mnt/darren/quaranta2/Cytation/2020-10-31/2010...</td>\n",
       "      <td>TRUE</td>\n",
       "      <td>1</td>\n",
       "      <td>FALSE</td>\n",
       "      <td>/mnt/darren/quaranta2/Cytation/2020-10-31/Segm...</td>\n",
       "      <td>B03</td>\n",
       "    </tr>\n",
       "    <tr>\n",
       "      <th>4</th>\n",
       "      <td>/mnt/darren/quaranta2/Cytation/2020-10-31/2010...</td>\n",
       "      <td>/mnt/darren/quaranta2/Cytation/2020-10-31/2010...</td>\n",
       "      <td>TRUE</td>\n",
       "      <td>1</td>\n",
       "      <td>FALSE</td>\n",
       "      <td>/mnt/darren/quaranta2/Cytation/2020-10-31/Segm...</td>\n",
       "      <td>B04</td>\n",
       "    </tr>\n",
       "  </tbody>\n",
       "</table>\n",
       "</div>"
      ],
      "text/plain": [
       "                                         ch2_im_path  \\\n",
       "0  /mnt/darren/quaranta2/Cytation/2020-10-31/2010...   \n",
       "1  /mnt/darren/quaranta2/Cytation/2020-10-31/2010...   \n",
       "2  /mnt/darren/quaranta2/Cytation/2020-10-31/2010...   \n",
       "3  /mnt/darren/quaranta2/Cytation/2020-10-31/2010...   \n",
       "4  /mnt/darren/quaranta2/Cytation/2020-10-31/2010...   \n",
       "\n",
       "                                         nuc_im_path overwrite  plate_id  \\\n",
       "0  /mnt/darren/quaranta2/Cytation/2020-10-31/2010...      TRUE         1   \n",
       "1  /mnt/darren/quaranta2/Cytation/2020-10-31/2010...      TRUE         1   \n",
       "2  /mnt/darren/quaranta2/Cytation/2020-10-31/2010...      TRUE         1   \n",
       "3  /mnt/darren/quaranta2/Cytation/2020-10-31/2010...      TRUE         1   \n",
       "4  /mnt/darren/quaranta2/Cytation/2020-10-31/2010...      TRUE         1   \n",
       "\n",
       "  regprops                                          save_path well  \n",
       "0    FALSE  /mnt/darren/quaranta2/Cytation/2020-10-31/Segm...  B02  \n",
       "1    FALSE  /mnt/darren/quaranta2/Cytation/2020-10-31/Segm...  B02  \n",
       "2    FALSE  /mnt/darren/quaranta2/Cytation/2020-10-31/Segm...  B03  \n",
       "3    FALSE  /mnt/darren/quaranta2/Cytation/2020-10-31/Segm...  B03  \n",
       "4    FALSE  /mnt/darren/quaranta2/Cytation/2020-10-31/Segm...  B04  "
      ]
     },
     "execution_count": 33,
     "metadata": {},
     "output_type": "execute_result"
    }
   ],
   "source": [
    "taskargs.head()"
   ]
  },
  {
   "cell_type": "code",
   "execution_count": 38,
   "metadata": {},
   "outputs": [
    {
     "data": {
      "text/plain": [
       "['B2_02_1_1_RFP_001.tif',\n",
       " 'B2_02_1_2_RFP_001.tif',\n",
       " 'B3_02_1_1_RFP_001.tif',\n",
       " 'B3_02_1_2_RFP_001.tif',\n",
       " 'B4_02_1_1_RFP_001.tif',\n",
       " 'B4_02_1_2_RFP_001.tif',\n",
       " 'B5_02_1_1_RFP_001.tif',\n",
       " 'B5_02_1_2_RFP_001.tif',\n",
       " 'B6_02_1_1_RFP_001.tif',\n",
       " 'B6_02_1_2_RFP_001.tif']"
      ]
     },
     "execution_count": 38,
     "metadata": {},
     "output_type": "execute_result"
    }
   ],
   "source": [
    "[os.path.basename(x) for x in taskargs['nuc_im_path'].to_list()][:10] "
   ]
  },
  {
   "cell_type": "code",
   "execution_count": 39,
   "metadata": {},
   "outputs": [
    {
     "data": {
      "text/plain": [
       "['B2_02_1_2_RFP_001.tif',\n",
       " 'B3_02_1_2_RFP_001.tif',\n",
       " 'B4_02_1_2_RFP_001.tif',\n",
       " 'B5_02_1_2_RFP_001.tif',\n",
       " 'B6_02_1_2_RFP_001.tif',\n",
       " 'B7_02_1_2_RFP_001.tif',\n",
       " 'B8_02_1_2_RFP_001.tif',\n",
       " 'B9_02_1_2_RFP_001.tif',\n",
       " 'B10_02_1_2_RFP_001.tif',\n",
       " 'B11_02_1_2_RFP_001.tif']"
      ]
     },
     "execution_count": 39,
     "metadata": {},
     "output_type": "execute_result"
    }
   ],
   "source": [
    "d['file_name'].to_list()[:10]"
   ]
  },
  {
   "cell_type": "code",
   "execution_count": null,
   "metadata": {},
   "outputs": [],
   "source": [
    "d['full_path'] = taskargs['nuc_im_path']\n",
    "d['full_path_ch2'] = taskargs['ch2_im_path']"
   ]
  },
  {
   "cell_type": "code",
   "execution_count": null,
   "metadata": {},
   "outputs": [],
   "source": [
    "d.head()"
   ]
  },
  {
   "cell_type": "code",
   "execution_count": null,
   "metadata": {},
   "outputs": [],
   "source": [
    "d.shape\n"
   ]
  },
  {
   "cell_type": "code",
   "execution_count": null,
   "metadata": {},
   "outputs": [],
   "source": [
    "a = d.sort_values(by=['well','plate_id'])"
   ]
  },
  {
   "cell_type": "code",
   "execution_count": null,
   "metadata": {},
   "outputs": [],
   "source": [
    "a.head()"
   ]
  },
  {
   "cell_type": "code",
   "execution_count": null,
   "metadata": {},
   "outputs": [],
   "source": [
    "a['full_path'].sort_values().to_list()"
   ]
  },
  {
   "cell_type": "code",
   "execution_count": null,
   "metadata": {},
   "outputs": [],
   "source": []
  }
 ],
 "metadata": {
  "kernelspec": {
   "display_name": "improc",
   "language": "python",
   "name": "improc"
  },
  "language_info": {
   "codemirror_mode": {
    "name": "ipython",
    "version": 3
   },
   "file_extension": ".py",
   "mimetype": "text/x-python",
   "name": "python",
   "nbconvert_exporter": "python",
   "pygments_lexer": "ipython3",
   "version": "3.7.1"
  }
 },
 "nbformat": 4,
 "nbformat_minor": 4
}
