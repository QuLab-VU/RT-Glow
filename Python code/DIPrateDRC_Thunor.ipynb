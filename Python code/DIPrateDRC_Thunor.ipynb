{
 "cells": [
  {
   "cell_type": "markdown",
   "metadata": {},
   "source": [
    "## Visualize DIP rate-based dose-response curves with Thunor\n",
    "Installed Thunor in a new conda environment and opened this notebook using `jupyter notebook --NotebookApp.iopub_data_rate_limit=1.0e10` according to Thunor documentation.  \n",
    "\n",
    "https://core.thunor.net/en/latest/tutorial.html  \n",
    "\n",
    "#### Load Thunor\n"
   ]
  },
  {
   "cell_type": "code",
   "execution_count": 1,
   "metadata": {},
   "outputs": [],
   "source": [
    "import os, sys\n",
    "sys.path.insert(0, os.path.abspath('../'))\n",
    "\n",
    "import thunor\n",
    "from thunor.io import read_vanderbilt_hts\n",
    "from thunor.dip import dip_rates\n",
    "from thunor.curve_fit import fit_params\n",
    "from thunor.plots import plot_drc, plot_drc_params, plot_time_course, plot_ctrl_dip_by_plate, plot_plate_map\n",
    "\n",
    "import pandas as pd"
   ]
  },
  {
   "cell_type": "code",
   "execution_count": 2,
   "metadata": {},
   "outputs": [],
   "source": [
    "TOPDIR = [x for x in sys.path if 'RT-Glow' in x][0]\n",
    "DATADIR = os.path.join(TOPDIR,'data')"
   ]
  },
  {
   "cell_type": "code",
   "execution_count": null,
   "metadata": {},
   "outputs": [],
   "source": []
  },
  {
   "cell_type": "code",
   "execution_count": 5,
   "metadata": {},
   "outputs": [],
   "source": [
    "sim_fn = 'model_H841_k3d_iter_100_cell_counts.csv'\n",
    "# d = pd.read_csv(os.path.join(DATADIR,sim_fn))"
   ]
  },
  {
   "cell_type": "code",
   "execution_count": 6,
   "metadata": {},
   "outputs": [],
   "source": [
    "d = read_vanderbilt_hts(os.path.join(DATADIR,sim_fn))"
   ]
  },
  {
   "cell_type": "code",
   "execution_count": null,
   "metadata": {},
   "outputs": [],
   "source": []
  },
  {
   "cell_type": "code",
   "execution_count": 7,
   "metadata": {},
   "outputs": [
    {
     "data": {
      "text/plain": [
       "['NCIH1048', 'vNCIH1048']"
      ]
     },
     "execution_count": 7,
     "metadata": {},
     "output_type": "execute_result"
    }
   ],
   "source": [
    "d.cell_lines"
   ]
  },
  {
   "cell_type": "code",
   "execution_count": 8,
   "metadata": {},
   "outputs": [],
   "source": [
    "ctrl_dip_data, expt_dip_data = dip_rates(d)"
   ]
  },
  {
   "cell_type": "code",
   "execution_count": 9,
   "metadata": {},
   "outputs": [
    {
     "ename": "KeyError",
     "evalue": "'dataset'",
     "output_type": "error",
     "traceback": [
      "\u001b[0;31m---------------------------------------------------------------------------\u001b[0m",
      "\u001b[0;31mKeyError\u001b[0m                                  Traceback (most recent call last)",
      "\u001b[0;32m<ipython-input-9-fe163b6d317a>\u001b[0m in \u001b[0;36m<module>\u001b[0;34m\u001b[0m\n\u001b[0;32m----> 1\u001b[0;31m \u001b[0mfp\u001b[0m \u001b[0;34m=\u001b[0m \u001b[0mfit_params\u001b[0m\u001b[0;34m(\u001b[0m\u001b[0mctrl_dip_data\u001b[0m\u001b[0;34m,\u001b[0m \u001b[0mexpt_dip_data\u001b[0m\u001b[0;34m)\u001b[0m\u001b[0;34m\u001b[0m\u001b[0;34m\u001b[0m\u001b[0m\n\u001b[0m",
      "\u001b[0;32m~/anaconda3/envs/thunor/lib/python3.8/site-packages/thunor/curve_fit.py\u001b[0m in \u001b[0;36mfit_params\u001b[0;34m(ctrl_data, expt_data, fit_cls, ctrl_dose_fn)\u001b[0m\n\u001b[1;32m   1081\u001b[0m                                      ctrl_dose_fn)\n\u001b[1;32m   1082\u001b[0m \u001b[0;34m\u001b[0m\u001b[0m\n\u001b[0;32m-> 1083\u001b[0;31m     return fit_params_from_base(\n\u001b[0m\u001b[1;32m   1084\u001b[0m         \u001b[0mbase_params\u001b[0m\u001b[0;34m,\u001b[0m \u001b[0mctrl_data\u001b[0m\u001b[0;34m,\u001b[0m \u001b[0mexpt_data\u001b[0m\u001b[0;34m,\u001b[0m\u001b[0;34m\u001b[0m\u001b[0;34m\u001b[0m\u001b[0m\n\u001b[1;32m   1085\u001b[0m         \u001b[0mctrl_dose_fn\u001b[0m\u001b[0;34m=\u001b[0m\u001b[0mctrl_dose_fn\u001b[0m\u001b[0;34m,\u001b[0m\u001b[0;34m\u001b[0m\u001b[0;34m\u001b[0m\u001b[0m\n",
      "\u001b[0;32m~/anaconda3/envs/thunor/lib/python3.8/site-packages/thunor/curve_fit.py\u001b[0m in \u001b[0;36mfit_params_from_base\u001b[0;34m(base_params, ctrl_resp_data, expt_resp_data, ctrl_dose_fn, custom_ic_concentrations, custom_ec_concentrations, custom_e_values, custom_e_rel_values, include_aa, include_auc, include_hill, include_emax, include_einf, include_response_values)\u001b[0m\n\u001b[1;32m   1121\u001b[0m \u001b[0;34m\u001b[0m\u001b[0m\n\u001b[1;32m   1122\u001b[0m     \u001b[0;32mif\u001b[0m \u001b[0minclude_response_values\u001b[0m\u001b[0;34m:\u001b[0m\u001b[0;34m\u001b[0m\u001b[0;34m\u001b[0m\u001b[0m\n\u001b[0;32m-> 1123\u001b[0;31m         df_params = _attach_response_values(df_params, ctrl_resp_data,\n\u001b[0m\u001b[1;32m   1124\u001b[0m                                             expt_resp_data, ctrl_dose_fn)\n\u001b[1;32m   1125\u001b[0m \u001b[0;34m\u001b[0m\u001b[0m\n",
      "\u001b[0;32m~/anaconda3/envs/thunor/lib/python3.8/site-packages/thunor/curve_fit.py\u001b[0m in \u001b[0;36m_attach_response_values\u001b[0;34m(df_params, ctrl_dip_data, expt_dip_data, ctrl_dose_fn)\u001b[0m\n\u001b[1;32m    991\u001b[0m     \u001b[0mis_viability\u001b[0m \u001b[0;34m=\u001b[0m \u001b[0mdf_params\u001b[0m\u001b[0;34m.\u001b[0m\u001b[0m_drmetric\u001b[0m \u001b[0;34m==\u001b[0m \u001b[0;34m'viability'\u001b[0m\u001b[0;34m\u001b[0m\u001b[0;34m\u001b[0m\u001b[0m\n\u001b[1;32m    992\u001b[0m     \u001b[0mdata_list\u001b[0m \u001b[0;34m=\u001b[0m \u001b[0;34m[\u001b[0m\u001b[0;34m]\u001b[0m\u001b[0;34m\u001b[0m\u001b[0;34m\u001b[0m\u001b[0m\n\u001b[0;32m--> 993\u001b[0;31m     for grp, dip_grp in expt_dip_data.groupby(\n\u001b[0m\u001b[1;32m    994\u001b[0m             ['dataset', 'cell_line', 'drug'], sort=False):\n\u001b[1;32m    995\u001b[0m         \u001b[0;31m# Assumes drug combinations have been ruled out by fit_params_minimal\u001b[0m\u001b[0;34m\u001b[0m\u001b[0;34m\u001b[0m\u001b[0;34m\u001b[0m\u001b[0m\n",
      "\u001b[0;32m~/anaconda3/envs/thunor/lib/python3.8/site-packages/pandas/core/frame.py\u001b[0m in \u001b[0;36mgroupby\u001b[0;34m(self, by, axis, level, as_index, sort, group_keys, squeeze, observed, dropna)\u001b[0m\n\u001b[1;32m   6509\u001b[0m         \u001b[0maxis\u001b[0m \u001b[0;34m=\u001b[0m \u001b[0mself\u001b[0m\u001b[0;34m.\u001b[0m\u001b[0m_get_axis_number\u001b[0m\u001b[0;34m(\u001b[0m\u001b[0maxis\u001b[0m\u001b[0;34m)\u001b[0m\u001b[0;34m\u001b[0m\u001b[0;34m\u001b[0m\u001b[0m\n\u001b[1;32m   6510\u001b[0m \u001b[0;34m\u001b[0m\u001b[0m\n\u001b[0;32m-> 6511\u001b[0;31m         return DataFrameGroupBy(\n\u001b[0m\u001b[1;32m   6512\u001b[0m             \u001b[0mobj\u001b[0m\u001b[0;34m=\u001b[0m\u001b[0mself\u001b[0m\u001b[0;34m,\u001b[0m\u001b[0;34m\u001b[0m\u001b[0;34m\u001b[0m\u001b[0m\n\u001b[1;32m   6513\u001b[0m             \u001b[0mkeys\u001b[0m\u001b[0;34m=\u001b[0m\u001b[0mby\u001b[0m\u001b[0;34m,\u001b[0m\u001b[0;34m\u001b[0m\u001b[0;34m\u001b[0m\u001b[0m\n",
      "\u001b[0;32m~/anaconda3/envs/thunor/lib/python3.8/site-packages/pandas/core/groupby/groupby.py\u001b[0m in \u001b[0;36m__init__\u001b[0;34m(self, obj, keys, axis, level, grouper, exclusions, selection, as_index, sort, group_keys, squeeze, observed, mutated, dropna)\u001b[0m\n\u001b[1;32m    523\u001b[0m             \u001b[0;32mfrom\u001b[0m \u001b[0mpandas\u001b[0m\u001b[0;34m.\u001b[0m\u001b[0mcore\u001b[0m\u001b[0;34m.\u001b[0m\u001b[0mgroupby\u001b[0m\u001b[0;34m.\u001b[0m\u001b[0mgrouper\u001b[0m \u001b[0;32mimport\u001b[0m \u001b[0mget_grouper\u001b[0m\u001b[0;34m\u001b[0m\u001b[0;34m\u001b[0m\u001b[0m\n\u001b[1;32m    524\u001b[0m \u001b[0;34m\u001b[0m\u001b[0m\n\u001b[0;32m--> 525\u001b[0;31m             grouper, exclusions, obj = get_grouper(\n\u001b[0m\u001b[1;32m    526\u001b[0m                 \u001b[0mobj\u001b[0m\u001b[0;34m,\u001b[0m\u001b[0;34m\u001b[0m\u001b[0;34m\u001b[0m\u001b[0m\n\u001b[1;32m    527\u001b[0m                 \u001b[0mkeys\u001b[0m\u001b[0;34m,\u001b[0m\u001b[0;34m\u001b[0m\u001b[0;34m\u001b[0m\u001b[0m\n",
      "\u001b[0;32m~/anaconda3/envs/thunor/lib/python3.8/site-packages/pandas/core/groupby/grouper.py\u001b[0m in \u001b[0;36mget_grouper\u001b[0;34m(obj, key, axis, level, sort, observed, mutated, validate, dropna)\u001b[0m\n\u001b[1;32m    779\u001b[0m                 \u001b[0min_axis\u001b[0m\u001b[0;34m,\u001b[0m \u001b[0mname\u001b[0m\u001b[0;34m,\u001b[0m \u001b[0mlevel\u001b[0m\u001b[0;34m,\u001b[0m \u001b[0mgpr\u001b[0m \u001b[0;34m=\u001b[0m \u001b[0;32mFalse\u001b[0m\u001b[0;34m,\u001b[0m \u001b[0;32mNone\u001b[0m\u001b[0;34m,\u001b[0m \u001b[0mgpr\u001b[0m\u001b[0;34m,\u001b[0m \u001b[0;32mNone\u001b[0m\u001b[0;34m\u001b[0m\u001b[0;34m\u001b[0m\u001b[0m\n\u001b[1;32m    780\u001b[0m             \u001b[0;32melse\u001b[0m\u001b[0;34m:\u001b[0m\u001b[0;34m\u001b[0m\u001b[0;34m\u001b[0m\u001b[0m\n\u001b[0;32m--> 781\u001b[0;31m                 \u001b[0;32mraise\u001b[0m \u001b[0mKeyError\u001b[0m\u001b[0;34m(\u001b[0m\u001b[0mgpr\u001b[0m\u001b[0;34m)\u001b[0m\u001b[0;34m\u001b[0m\u001b[0;34m\u001b[0m\u001b[0m\n\u001b[0m\u001b[1;32m    782\u001b[0m         \u001b[0;32melif\u001b[0m \u001b[0misinstance\u001b[0m\u001b[0;34m(\u001b[0m\u001b[0mgpr\u001b[0m\u001b[0;34m,\u001b[0m \u001b[0mGrouper\u001b[0m\u001b[0;34m)\u001b[0m \u001b[0;32mand\u001b[0m \u001b[0mgpr\u001b[0m\u001b[0;34m.\u001b[0m\u001b[0mkey\u001b[0m \u001b[0;32mis\u001b[0m \u001b[0;32mnot\u001b[0m \u001b[0;32mNone\u001b[0m\u001b[0;34m:\u001b[0m\u001b[0;34m\u001b[0m\u001b[0;34m\u001b[0m\u001b[0m\n\u001b[1;32m    783\u001b[0m             \u001b[0;31m# Add key to exclusions\u001b[0m\u001b[0;34m\u001b[0m\u001b[0;34m\u001b[0m\u001b[0;34m\u001b[0m\u001b[0m\n",
      "\u001b[0;31mKeyError\u001b[0m: 'dataset'"
     ]
    }
   ],
   "source": [
    "fp = fit_params(ctrl_dip_data, expt_dip_data)"
   ]
  },
  {
   "cell_type": "code",
   "execution_count": 22,
   "metadata": {},
   "outputs": [
    {
     "ename": "ValueError",
     "evalue": "Dataset has multiple drugs and/or cell lines. Time courses are currently only available for single drug/cell line combinations.",
     "output_type": "error",
     "traceback": [
      "\u001b[0;31m---------------------------------------------------------------------------\u001b[0m",
      "\u001b[0;31mValueError\u001b[0m                                Traceback (most recent call last)",
      "\u001b[0;32m<ipython-input-22-3542f94a4316>\u001b[0m in \u001b[0;36m<module>\u001b[0;34m\u001b[0m\n\u001b[0;32m----> 1\u001b[0;31m \u001b[0mplot_time_course\u001b[0m\u001b[0;34m(\u001b[0m\u001b[0md\u001b[0m\u001b[0;34m,\u001b[0m \u001b[0mlog_yaxis\u001b[0m\u001b[0;34m=\u001b[0m\u001b[0;32mTrue\u001b[0m\u001b[0;34m)\u001b[0m\u001b[0;34m\u001b[0m\u001b[0;34m\u001b[0m\u001b[0m\n\u001b[0m",
      "\u001b[0;32m~/anaconda3/envs/thunor/lib/python3.8/site-packages/thunor/plots.py\u001b[0m in \u001b[0;36mplot_time_course\u001b[0;34m(hts_pandas, log_yaxis, assay_name, title, subtitle, show_dip_fit, template)\u001b[0m\n\u001b[1;32m   1487\u001b[0m \u001b[0;34m\u001b[0m\u001b[0m\n\u001b[1;32m   1488\u001b[0m     \u001b[0;32mif\u001b[0m \u001b[0mlen\u001b[0m\u001b[0;34m(\u001b[0m\u001b[0mhts_pandas\u001b[0m\u001b[0;34m.\u001b[0m\u001b[0mdrugs\u001b[0m\u001b[0;34m)\u001b[0m \u001b[0;34m>\u001b[0m \u001b[0;36m1\u001b[0m \u001b[0;32mor\u001b[0m \u001b[0mlen\u001b[0m\u001b[0;34m(\u001b[0m\u001b[0mhts_pandas\u001b[0m\u001b[0;34m.\u001b[0m\u001b[0mcell_lines\u001b[0m\u001b[0;34m)\u001b[0m \u001b[0;34m>\u001b[0m \u001b[0;36m1\u001b[0m\u001b[0;34m:\u001b[0m\u001b[0;34m\u001b[0m\u001b[0;34m\u001b[0m\u001b[0m\n\u001b[0;32m-> 1489\u001b[0;31m         raise ValueError('Dataset has multiple drugs and/or cell lines. Time '\n\u001b[0m\u001b[1;32m   1490\u001b[0m                          \u001b[0;34m'courses are currently only available for single '\u001b[0m\u001b[0;34m\u001b[0m\u001b[0;34m\u001b[0m\u001b[0m\n\u001b[1;32m   1491\u001b[0m                          'drug/cell line combinations.')\n",
      "\u001b[0;31mValueError\u001b[0m: Dataset has multiple drugs and/or cell lines. Time courses are currently only available for single drug/cell line combinations."
     ]
    }
   ],
   "source": [
    "plot_time_course(d, log_yaxis=True)"
   ]
  },
  {
   "cell_type": "code",
   "execution_count": null,
   "metadata": {},
   "outputs": [],
   "source": []
  },
  {
   "cell_type": "code",
   "execution_count": 23,
   "metadata": {},
   "outputs": [
    {
     "data": {
      "text/html": [
       "<div>\n",
       "<style scoped>\n",
       "    .dataframe tbody tr th:only-of-type {\n",
       "        vertical-align: middle;\n",
       "    }\n",
       "\n",
       "    .dataframe tbody tr th {\n",
       "        vertical-align: top;\n",
       "    }\n",
       "\n",
       "    .dataframe thead th {\n",
       "        text-align: right;\n",
       "    }\n",
       "</style>\n",
       "<table border=\"1\" class=\"dataframe\">\n",
       "  <thead>\n",
       "    <tr style=\"text-align: right;\">\n",
       "      <th></th>\n",
       "      <th></th>\n",
       "      <th></th>\n",
       "      <th>dip_rate</th>\n",
       "      <th>dip_fit_std_err</th>\n",
       "      <th>dip_y_intercept</th>\n",
       "    </tr>\n",
       "    <tr>\n",
       "      <th>cell_line</th>\n",
       "      <th>plate</th>\n",
       "      <th>well_id</th>\n",
       "      <th></th>\n",
       "      <th></th>\n",
       "      <th></th>\n",
       "    </tr>\n",
       "  </thead>\n",
       "  <tbody>\n",
       "    <tr>\n",
       "      <th>NCIH1048</th>\n",
       "      <th>model_H841_k3d_iter_100</th>\n",
       "      <th>model_H841_k3d_iter_100__216</th>\n",
       "      <td>0.631074</td>\n",
       "      <td>0.055324</td>\n",
       "      <td>5.356305</td>\n",
       "    </tr>\n",
       "    <tr>\n",
       "      <th rowspan=\"9\" valign=\"top\">vNCIH1048</th>\n",
       "      <th rowspan=\"9\" valign=\"top\">model_H841_k3d_iter_100</th>\n",
       "      <th>model_H841_k3d_iter_100__0</th>\n",
       "      <td>0.018409</td>\n",
       "      <td>0.000019</td>\n",
       "      <td>8.258736</td>\n",
       "    </tr>\n",
       "    <tr>\n",
       "      <th>model_H841_k3d_iter_100__120</th>\n",
       "      <td>0.018409</td>\n",
       "      <td>0.000019</td>\n",
       "      <td>8.258881</td>\n",
       "    </tr>\n",
       "    <tr>\n",
       "      <th>model_H841_k3d_iter_100__144</th>\n",
       "      <td>0.018409</td>\n",
       "      <td>0.000019</td>\n",
       "      <td>8.258832</td>\n",
       "    </tr>\n",
       "    <tr>\n",
       "      <th>model_H841_k3d_iter_100__168</th>\n",
       "      <td>0.018409</td>\n",
       "      <td>0.000019</td>\n",
       "      <td>8.258738</td>\n",
       "    </tr>\n",
       "    <tr>\n",
       "      <th>model_H841_k3d_iter_100__192</th>\n",
       "      <td>0.018409</td>\n",
       "      <td>0.000019</td>\n",
       "      <td>8.258881</td>\n",
       "    </tr>\n",
       "    <tr>\n",
       "      <th>model_H841_k3d_iter_100__24</th>\n",
       "      <td>0.018409</td>\n",
       "      <td>0.000019</td>\n",
       "      <td>8.258788</td>\n",
       "    </tr>\n",
       "    <tr>\n",
       "      <th>model_H841_k3d_iter_100__48</th>\n",
       "      <td>0.018409</td>\n",
       "      <td>0.000019</td>\n",
       "      <td>8.258882</td>\n",
       "    </tr>\n",
       "    <tr>\n",
       "      <th>model_H841_k3d_iter_100__72</th>\n",
       "      <td>0.018409</td>\n",
       "      <td>0.000019</td>\n",
       "      <td>8.258786</td>\n",
       "    </tr>\n",
       "    <tr>\n",
       "      <th>model_H841_k3d_iter_100__96</th>\n",
       "      <td>0.018409</td>\n",
       "      <td>0.000019</td>\n",
       "      <td>8.258830</td>\n",
       "    </tr>\n",
       "  </tbody>\n",
       "</table>\n",
       "</div>"
      ],
      "text/plain": [
       "                                                                dip_rate  \\\n",
       "cell_line plate                   well_id                                  \n",
       "NCIH1048  model_H841_k3d_iter_100 model_H841_k3d_iter_100__216  0.631074   \n",
       "vNCIH1048 model_H841_k3d_iter_100 model_H841_k3d_iter_100__0    0.018409   \n",
       "                                  model_H841_k3d_iter_100__120  0.018409   \n",
       "                                  model_H841_k3d_iter_100__144  0.018409   \n",
       "                                  model_H841_k3d_iter_100__168  0.018409   \n",
       "                                  model_H841_k3d_iter_100__192  0.018409   \n",
       "                                  model_H841_k3d_iter_100__24   0.018409   \n",
       "                                  model_H841_k3d_iter_100__48   0.018409   \n",
       "                                  model_H841_k3d_iter_100__72   0.018409   \n",
       "                                  model_H841_k3d_iter_100__96   0.018409   \n",
       "\n",
       "                                                                dip_fit_std_err  \\\n",
       "cell_line plate                   well_id                                         \n",
       "NCIH1048  model_H841_k3d_iter_100 model_H841_k3d_iter_100__216         0.055324   \n",
       "vNCIH1048 model_H841_k3d_iter_100 model_H841_k3d_iter_100__0           0.000019   \n",
       "                                  model_H841_k3d_iter_100__120         0.000019   \n",
       "                                  model_H841_k3d_iter_100__144         0.000019   \n",
       "                                  model_H841_k3d_iter_100__168         0.000019   \n",
       "                                  model_H841_k3d_iter_100__192         0.000019   \n",
       "                                  model_H841_k3d_iter_100__24          0.000019   \n",
       "                                  model_H841_k3d_iter_100__48          0.000019   \n",
       "                                  model_H841_k3d_iter_100__72          0.000019   \n",
       "                                  model_H841_k3d_iter_100__96          0.000019   \n",
       "\n",
       "                                                                dip_y_intercept  \n",
       "cell_line plate                   well_id                                        \n",
       "NCIH1048  model_H841_k3d_iter_100 model_H841_k3d_iter_100__216         5.356305  \n",
       "vNCIH1048 model_H841_k3d_iter_100 model_H841_k3d_iter_100__0           8.258736  \n",
       "                                  model_H841_k3d_iter_100__120         8.258881  \n",
       "                                  model_H841_k3d_iter_100__144         8.258832  \n",
       "                                  model_H841_k3d_iter_100__168         8.258738  \n",
       "                                  model_H841_k3d_iter_100__192         8.258881  \n",
       "                                  model_H841_k3d_iter_100__24          8.258788  \n",
       "                                  model_H841_k3d_iter_100__48          8.258882  \n",
       "                                  model_H841_k3d_iter_100__72          8.258786  \n",
       "                                  model_H841_k3d_iter_100__96          8.258830  "
      ]
     },
     "execution_count": 23,
     "metadata": {},
     "output_type": "execute_result"
    }
   ],
   "source": [
    "ctrl_dip_data"
   ]
  },
  {
   "cell_type": "code",
   "execution_count": 24,
   "metadata": {},
   "outputs": [],
   "source": [
    "a = d[d['cell_line']==\"NCIH1048\"]"
   ]
  },
  {
   "cell_type": "code",
   "execution_count": 25,
   "metadata": {},
   "outputs": [],
   "source": []
  },
  {
   "cell_type": "code",
   "execution_count": null,
   "metadata": {},
   "outputs": [],
   "source": [
    "expt_dip_data"
   ]
  },
  {
   "cell_type": "code",
   "execution_count": null,
   "metadata": {},
   "outputs": [],
   "source": []
  }
 ],
 "metadata": {
  "kernelspec": {
   "display_name": "Python [conda env:thunor]",
   "language": "python",
   "name": "conda-env-thunor-py"
  },
  "language_info": {
   "codemirror_mode": {
    "name": "ipython",
    "version": 3
   },
   "file_extension": ".py",
   "mimetype": "text/x-python",
   "name": "python",
   "nbconvert_exporter": "python",
   "pygments_lexer": "ipython3",
   "version": "3.8.5"
  }
 },
 "nbformat": 4,
 "nbformat_minor": 4
}
